{
  "nbformat": 4,
  "nbformat_minor": 0,
  "metadata": {
    "colab": {
      "name": "Programming Assignment_9.ipynb",
      "provenance": [],
      "authorship_tag": "ABX9TyPcMWBF7ZTb7NeDn/1zduQR",
      "include_colab_link": true
    },
    "kernelspec": {
      "name": "python3",
      "display_name": "Python 3"
    },
    "language_info": {
      "name": "python"
    }
  },
  "cells": [
    {
      "cell_type": "markdown",
      "metadata": {
        "id": "view-in-github",
        "colab_type": "text"
      },
      "source": [
        "<a href=\"https://colab.research.google.com/github/divyamehra17/python-assignment/blob/main/Programming_Assignment_9.ipynb\" target=\"_parent\"><img src=\"https://colab.research.google.com/assets/colab-badge.svg\" alt=\"Open In Colab\"/></a>"
      ]
    },
    {
      "cell_type": "code",
      "execution_count": 1,
      "metadata": {
        "colab": {
          "base_uri": "https://localhost:8080/"
        },
        "id": "d0Zxj8MKyNtL",
        "outputId": "6f513388-7011-41bb-a4f9-e93904394f3b"
      },
      "outputs": [
        {
          "output_type": "stream",
          "name": "stdout",
          "text": [
            "Enter a number:175\n",
            "It is a Disarium Number.\n"
          ]
        }
      ],
      "source": [
        "\n",
        "#1. Write a Python program to check if the given number is a Disarium Number?\n",
        "\"\"\"A number is said to be the Disarium number when the sum of its digit raised to the power of their respective positions is equal to the number itself. \n",
        "For example, 175 is a Disarium number as follows. 11 + 72 + 53 = 1 + 49 + 125 = 175.\"\"\"\n",
        "\n",
        "import math\n",
        "num=int(input(\"Enter a number:\"))\n",
        "num1 = num\n",
        "c=0\n",
        "while num1!=0:\n",
        "    num1 //= 10\n",
        "    c+=1\n",
        "num1=num\n",
        "sum=0\n",
        "while num1!=0:\n",
        "    rem = num1 % 10\n",
        "    sum += math.pow(rem, c)\n",
        "    num1 //= 10\n",
        "    c-=1\n",
        "if sum==num:\n",
        "    print(\"It is a Disarium Number.\")\n",
        "else:\n",
        "   print(\"It is Not a Disarium Number.\")"
      ]
    },
    {
      "cell_type": "code",
      "source": [
        "#2. Write a Python program to print all disarium numbers between 1 to 100?\n",
        "\n",
        "def Number(n):    \n",
        "    length = 0;    \n",
        "    while(n != 0):    \n",
        "        length = length + 1;    \n",
        "        n = n//10;    \n",
        "    return length;    \n",
        "    \n",
        "def sum(num):    \n",
        "    rem = sum = 0;    \n",
        "    len = Number(num);    \n",
        "        \n",
        "    while(num > 0):    \n",
        "        rem = num%10;    \n",
        "        sum = sum + (rem**len);    \n",
        "        num = num//10;    \n",
        "        len = len - 1;    \n",
        "    return sum;    \n",
        "      \n",
        "result = 0;    \n",
        "       \n",
        "print(\"Disarium numbers between 1 and 100 are\");    \n",
        "for i in range(1, 101):    \n",
        "    result = sum(i);\n",
        "    if(result == i):    \n",
        "     print(i),    \n"
      ],
      "metadata": {
        "colab": {
          "base_uri": "https://localhost:8080/"
        },
        "id": "IMJeNzdn_r2N",
        "outputId": "e883b7a1-fa2a-4ff7-8c11-f52ad009b02d"
      },
      "execution_count": 2,
      "outputs": [
        {
          "output_type": "stream",
          "name": "stdout",
          "text": [
            "Disarium numbers between 1 and 100 are\n",
            "1\n",
            "2\n",
            "3\n",
            "4\n",
            "5\n",
            "6\n",
            "7\n",
            "8\n",
            "9\n",
            "89\n"
          ]
        }
      ]
    },
    {
      "cell_type": "code",
      "source": [
        "#3. Write a Python program to check if the given number is Happy Number?\n",
        "n=int(input(\"Enter a number:\"))\n",
        "sum=0\n",
        "while sum != 1 and sum != 4:\n",
        "    sum=0\n",
        "    while n!=0:\n",
        "        rem = n % 10\n",
        "        sum += (rem*rem)\n",
        "        n //= 10\n",
        "    n=sum\n",
        "\n",
        "if sum==1:\n",
        "    print(\"It is a Happy Number.\")\n",
        "else:\n",
        "   print(\"It is  an Unhappy Number.\")\n",
        "\n"
      ],
      "metadata": {
        "colab": {
          "base_uri": "https://localhost:8080/"
        },
        "id": "J3X8zTmOCWWr",
        "outputId": "4c5c2bfb-6802-4ef3-ccd5-ca098a70bc68"
      },
      "execution_count": 3,
      "outputs": [
        {
          "output_type": "stream",
          "name": "stdout",
          "text": [
            "Enter a number:32\n",
            "It is a Happy Number.\n"
          ]
        }
      ]
    },
    {
      "cell_type": "code",
      "source": [
        "#4. Write a Python program to print all happy numbers between 1 and 100?\n",
        "\n",
        "def HN(n):    \n",
        "    rem = sum = 0;\n",
        "    while(n > 0):    \n",
        "        rem = n%10;    \n",
        "        sum = sum + (rem*rem);    \n",
        "        n = n//10;    \n",
        "    return sum;    \n",
        "            \n",
        "print(\"List of happy numbers between 1 and 100: \");    \n",
        "for i in range(1, 101):    \n",
        "    result = i;    \n",
        "     \n",
        "    while(result != 1 and result != 4):    \n",
        "        result = HN(result);    \n",
        "        \n",
        "    if(result == 1):    \n",
        "        print(i),    \n",
        "        print(\" \"),    "
      ],
      "metadata": {
        "colab": {
          "base_uri": "https://localhost:8080/"
        },
        "id": "Py-T2LANEr_q",
        "outputId": "6c32f9bc-edc1-4840-f9e3-082aa3384f2c"
      },
      "execution_count": 5,
      "outputs": [
        {
          "output_type": "stream",
          "name": "stdout",
          "text": [
            "List of happy numbers between 1 and 100: \n",
            "1\n",
            " \n",
            "7\n",
            " \n",
            "10\n",
            " \n",
            "13\n",
            " \n",
            "19\n",
            " \n",
            "23\n",
            " \n",
            "28\n",
            " \n",
            "31\n",
            " \n",
            "32\n",
            " \n",
            "44\n",
            " \n",
            "49\n",
            " \n",
            "68\n",
            " \n",
            "70\n",
            " \n",
            "79\n",
            " \n",
            "82\n",
            " \n",
            "86\n",
            " \n",
            "91\n",
            " \n",
            "94\n",
            " \n",
            "97\n",
            " \n",
            "100\n",
            " \n"
          ]
        }
      ]
    },
    {
      "cell_type": "code",
      "source": [
        "#5. Write a Python program to determine whether the given number is a Harshad Number?\n",
        "\n",
        "num = int(input(\"enter a number:   \"));    \n",
        "rem = sum = 0;    \n",
        "     \n",
        "n = num;    \n",
        " \n",
        "while(num > 0):    \n",
        "    rem = num%10;    \n",
        "    sum = sum + rem;    \n",
        "    num = num//10;    \n",
        "     \n",
        "if(n%sum == 0):    \n",
        "    print(str(n) + \" is a harshad number\");    \n",
        "else:    \n",
        "    print(str(n) + \" is not a harshad number\");  "
      ],
      "metadata": {
        "colab": {
          "base_uri": "https://localhost:8080/"
        },
        "id": "Qy1YXKOzXBaK",
        "outputId": "1643f3c9-fd03-44d4-9e23-3845ca21e7b3"
      },
      "execution_count": 10,
      "outputs": [
        {
          "output_type": "stream",
          "name": "stdout",
          "text": [
            "enter a number:   8\n",
            "8 is a harshad number\n"
          ]
        }
      ]
    },
    {
      "cell_type": "code",
      "source": [
        "#6. Write a Python program to print all pronic numbers between 1 and 100?\n",
        "import math\n",
        "print(\"Enter a range:\")\n",
        "range1=int(input(\"enter a range 1:   \"))\n",
        "range2=int(input(\"enter a range 2:    \"))\n",
        "print(\"Pronic numbers between \",range1,\" and \",range2,\" are: \")\n",
        "for i in range(range1,range2+1):\n",
        "    flag = 0\n",
        "    for j in range(0, i + 1):\n",
        "        if j * (j + 1) == i:\n",
        "            flag = 1\n",
        "            break\n",
        "    if flag == 1:\n",
        "        print(i,end=\" \")"
      ],
      "metadata": {
        "colab": {
          "base_uri": "https://localhost:8080/"
        },
        "id": "970BKLVsYQvW",
        "outputId": "65789d7e-6e1e-471c-83b4-f556387a8a48"
      },
      "execution_count": 12,
      "outputs": [
        {
          "output_type": "stream",
          "name": "stdout",
          "text": [
            "Enter a range:\n",
            "enter a range 1:   1\n",
            "enter a range 2:    100\n",
            "Pronic numbers between  1  and  100  are: \n",
            "2 6 12 20 30 42 56 72 90 "
          ]
        }
      ]
    },
    {
      "cell_type": "code",
      "source": [
        ""
      ],
      "metadata": {
        "id": "QSDv1kRrZZAQ"
      },
      "execution_count": null,
      "outputs": []
    }
  ]
}