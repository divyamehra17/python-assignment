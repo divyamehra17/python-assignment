{
  "nbformat": 4,
  "nbformat_minor": 0,
  "metadata": {
    "colab": {
      "name": "Programming_Assingment10.ipynb",
      "provenance": [],
      "authorship_tag": "ABX9TyOLFJppOIKKZDD5eUCm7AdQ",
      "include_colab_link": true
    },
    "kernelspec": {
      "name": "python3",
      "display_name": "Python 3"
    },
    "language_info": {
      "name": "python"
    }
  },
  "cells": [
    {
      "cell_type": "markdown",
      "metadata": {
        "id": "view-in-github",
        "colab_type": "text"
      },
      "source": [
        "<a href=\"https://colab.research.google.com/github/divyamehra17/python-assignment/blob/main/Programming_Assingment10.ipynb\" target=\"_parent\"><img src=\"https://colab.research.google.com/assets/colab-badge.svg\" alt=\"Open In Colab\"/></a>"
      ]
    },
    {
      "cell_type": "code",
      "execution_count": 1,
      "metadata": {
        "colab": {
          "base_uri": "https://localhost:8080/"
        },
        "id": "_iWyJh_fF0Xr",
        "outputId": "2cede74f-1e01-4001-d918-a8208474d68b"
      },
      "outputs": [
        {
          "output_type": "stream",
          "name": "stdout",
          "text": [
            "Enter the length of sum of elements in list: 4\n",
            "Enter the element: 1\n",
            "Enter the element: 2\n",
            "Enter the element: 3\n",
            "Enter the element: 4\n",
            "User inputs are [1, 2, 3, 4]\n",
            "the sum of elements in list is:   10\n"
          ]
        }
      ],
      "source": [
        "#1. Write a Python program to find sum of elements in list?\n",
        "\n",
        "n = int(input(\"Enter the length of sum of elements in list: \"))\n",
        "l = []\n",
        "for i in range(n):\n",
        "    l.append(int(input(\"Enter the element: \")))\n",
        "print(\"User inputs are\", l)\n",
        "sum=0\n",
        "for i in l:\n",
        "    sum=sum+i\n",
        "print (\"the sum of elements in list is:  \",sum)"
      ]
    },
    {
      "cell_type": "code",
      "source": [
        "#2. Write a Python program to Multiply all numbers in the list?\n",
        "n = int(input(\"Enter the length  of elements in list: \"))\n",
        "l = []\n",
        "for i in range(n):\n",
        "    l.append(int(input(\"Enter the element: \")))\n",
        "print(\"User inputs are\", l)\n",
        "sum=1\n",
        "for i in l:\n",
        "    sum=sum*i\n",
        "print (\"multiply all number in list is:  \",sum)\n"
      ],
      "metadata": {
        "colab": {
          "base_uri": "https://localhost:8080/"
        },
        "id": "wkvyvAKBG8Hz",
        "outputId": "c6967c7b-d8c7-40c8-fac6-c1c731ed9229"
      },
      "execution_count": 2,
      "outputs": [
        {
          "output_type": "stream",
          "name": "stdout",
          "text": [
            "Enter the length  of elements in list: 3\n",
            "Enter the element: 1\n",
            "Enter the element: 2\n",
            "Enter the element: 3\n",
            "User inputs are [1, 2, 3]\n",
            "multiply all number in list is:   6\n"
          ]
        }
      ]
    },
    {
      "cell_type": "code",
      "source": [
        "#3. Write a Python program to find smallest number in a list?\n",
        "n = int(input(\"Enter the length of list: \"))\n",
        "l = []\n",
        "for i in range(n):\n",
        "    l.append(int(input(\"Enter numbers: \")))\n",
        "print(\"User inputs are\", l)\n",
        "min = l[0]\t\n",
        "for i in range(1, n):\n",
        "\t\tif l[i] < min:\n",
        "\t\t\tmin = l[i]\n",
        "print(\"the smallest number in a list is:  \",min)"
      ],
      "metadata": {
        "colab": {
          "base_uri": "https://localhost:8080/"
        },
        "id": "jl5d63XYH7Ox",
        "outputId": "53a6f003-28ff-4f20-d4b1-4eba9cfbaf2b"
      },
      "execution_count": 3,
      "outputs": [
        {
          "output_type": "stream",
          "name": "stdout",
          "text": [
            "Enter the length of list: 4\n",
            "Enter numbers: 89\n",
            "Enter numbers: 45\n",
            "Enter numbers: 69\n",
            "Enter numbers: 45\n",
            "User inputs are [89, 45, 69, 45]\n",
            "the smallest number in a list is:   45\n"
          ]
        }
      ]
    },
    {
      "cell_type": "code",
      "source": [
        "#4. Write a Python program to find largest number in a list?\n",
        "\n",
        "n = int(input(\"Enter the length of list: \"))\n",
        "l = []\n",
        "for i in range(n):\n",
        "    l.append(int(input(\"Enter numbers: \")))\n",
        "print(\"User inputs are\", l)\n",
        "max = l[0]\t\n",
        "for i in range(1, n):\n",
        "\t\tif l[i] > max:\n",
        "\t\t\tmax = l[i]\n",
        "print(\"the largest number in a list is:  \",max)\n"
      ],
      "metadata": {
        "colab": {
          "base_uri": "https://localhost:8080/"
        },
        "id": "hcAT35l3JDIt",
        "outputId": "72f296d4-401b-4bdd-f366-2f0a6076582f"
      },
      "execution_count": 4,
      "outputs": [
        {
          "output_type": "stream",
          "name": "stdout",
          "text": [
            "Enter the length of list: 5\n",
            "Enter numbers: 885\n",
            "Enter numbers: 546\n",
            "Enter numbers: 356\n",
            "Enter numbers: 546\n",
            "Enter numbers: 458\n",
            "User inputs are [885, 546, 356, 546, 458]\n",
            "the largest number in a list is:   885\n"
          ]
        }
      ]
    },
    {
      "cell_type": "code",
      "source": [
        "#5. Write a Python program to find second largest number in a list?\n",
        "\n",
        "n = int(input(\"Enter the length of list: \"))\n",
        "l = []\n",
        "for i in range(n):\n",
        "    l.append(int(input(\"Enter numbers: \")))\n",
        "print(\"User inputs are\", l)\n",
        "second_largest_number = sorted(l)[-2]\n",
        "print(\"the second largest number in a list:  \",second_largest_number)\n",
        "\n"
      ],
      "metadata": {
        "colab": {
          "base_uri": "https://localhost:8080/"
        },
        "id": "OhbSOA0HMlGP",
        "outputId": "66017a11-9af5-448e-e31e-26d5f0659c40"
      },
      "execution_count": 5,
      "outputs": [
        {
          "output_type": "stream",
          "name": "stdout",
          "text": [
            "Enter the length of list: 4\n",
            "Enter numbers: 214\n",
            "Enter numbers: 546\n",
            "Enter numbers: 365\n",
            "Enter numbers: 785\n",
            "User inputs are [214, 546, 365, 785]\n",
            "the second largest number in a list:   546\n"
          ]
        }
      ]
    },
    {
      "cell_type": "code",
      "source": [
        "#6. Write a Python program to find N largest elements from a list?\n",
        "\n",
        "n = int(input(\"Enter the length of list: \"))\n",
        "l = []\n",
        "for i in range(n):\n",
        "    l.append(int(input(\"Enter numbers: \")))\n",
        "print(\"User inputs are\", l)\n",
        "N=2\n",
        "l.sort()\n",
        "print(l[-N:])"
      ],
      "metadata": {
        "colab": {
          "base_uri": "https://localhost:8080/"
        },
        "id": "y9MHylK5Npdg",
        "outputId": "ff7117ab-6cf7-4c4e-a7db-20c865566c03"
      },
      "execution_count": 6,
      "outputs": [
        {
          "output_type": "stream",
          "name": "stdout",
          "text": [
            "Enter the length of list: 4\n",
            "Enter numbers: 546\n",
            "Enter numbers: 52\n",
            "Enter numbers: 36\n",
            "Enter numbers: 779\n",
            "User inputs are [546, 52, 36, 779]\n",
            "[546, 779]\n"
          ]
        }
      ]
    },
    {
      "cell_type": "code",
      "source": [
        "#7. Write a Python program to print even numbers in a list?\n",
        "n= int(input(\"Enter the length of list: \"))\n",
        "l = []\n",
        "for i in range(n):\n",
        "    l.append(int(input(\"Enter numbers: \")))\n",
        "print(\"User inputs are\", l)\n",
        "for num in l:\n",
        "  if num % 2 == 0:\n",
        "    print(num, end=\" \")"
      ],
      "metadata": {
        "colab": {
          "base_uri": "https://localhost:8080/"
        },
        "id": "mawnSDk8UGbv",
        "outputId": "69b7feea-fbba-4ec9-c548-3bf1bd914958"
      },
      "execution_count": 7,
      "outputs": [
        {
          "output_type": "stream",
          "name": "stdout",
          "text": [
            "Enter the length of list: 4\n",
            "Enter numbers: 2\n",
            "Enter numbers: 3\n",
            "Enter numbers: 8\n",
            "Enter numbers: 7\n",
            "User inputs are [2, 3, 8, 7]\n",
            "2 8 "
          ]
        }
      ]
    },
    {
      "cell_type": "code",
      "source": [
        "#8. Write a Python program to print odd numbers in a List?\n",
        "\n",
        "n= int(input(\"Enter the length of list: \"))\n",
        "l = []\n",
        "for i in range(n):\n",
        "    l.append(int(input(\"Enter numbers: \")))\n",
        "print(\"User inputs are\", l)\n",
        "for num in l:\n",
        "  if num % 2 != 0:\n",
        "    print(num, end=\" \")"
      ],
      "metadata": {
        "colab": {
          "base_uri": "https://localhost:8080/"
        },
        "id": "LcWFSvLuVrrU",
        "outputId": "5e3cecc1-0943-4f2f-e161-254339d69527"
      },
      "execution_count": 8,
      "outputs": [
        {
          "output_type": "stream",
          "name": "stdout",
          "text": [
            "Enter the length of list: 5\n",
            "Enter numbers: 1\n",
            "Enter numbers: 6\n",
            "Enter numbers: 4\n",
            "Enter numbers: 2\n",
            "Enter numbers: 3\n",
            "User inputs are [1, 6, 4, 2, 3]\n",
            "1 3 "
          ]
        }
      ]
    },
    {
      "cell_type": "code",
      "source": [
        "#9. Write a Python program to Remove empty List from List?\n",
        "\n",
        "list1 = [[], [], [], [], [], 'ranu', 1, [], True,4.5,3+6j]\n",
        "list2 = [e for e in list1 if e]\n",
        "list2"
      ],
      "metadata": {
        "colab": {
          "base_uri": "https://localhost:8080/"
        },
        "id": "Zgmi0IfgWoSk",
        "outputId": "f923c546-da57-44bb-a277-793d4a76905a"
      },
      "execution_count": 9,
      "outputs": [
        {
          "output_type": "execute_result",
          "data": {
            "text/plain": [
              "['ranu', 1, True, 4.5, (3+6j)]"
            ]
          },
          "metadata": {},
          "execution_count": 9
        }
      ]
    },
    {
      "cell_type": "code",
      "source": [
        "#10. Write a Python program to Cloning or Copying a list?\n",
        "\n",
        "def Cloning(l):\n",
        "\tl1_copy =[]\n",
        "\tl1_copy = l.copy()\n",
        "\treturn l1_copy\n",
        "\n",
        "n=int(input(\"enter a length of a list:   \"))\n",
        "l =[] \n",
        "for i in range(n):\n",
        "  l.append((input(\"enter a number:   \")))\n",
        "  print(\"the list is:  \",l)\n",
        "l2 = Cloning(l)\n",
        "print(\"Original List:\", l)\n",
        "print(\"After Cloning:\", l2)\n"
      ],
      "metadata": {
        "colab": {
          "base_uri": "https://localhost:8080/"
        },
        "id": "9qGliPE1mVBH",
        "outputId": "99300676-3321-4eae-b327-20b588704b87"
      },
      "execution_count": 10,
      "outputs": [
        {
          "output_type": "stream",
          "name": "stdout",
          "text": [
            "enter a length of a list:   5\n",
            "enter a number:   1\n",
            "the list is:   ['1']\n",
            "enter a number:   2.5\n",
            "the list is:   ['1', '2.5']\n",
            "enter a number:   True\n",
            "the list is:   ['1', '2.5', 'True']\n",
            "enter a number:   sudh\n",
            "the list is:   ['1', '2.5', 'True', 'sudh']\n",
            "enter a number:   4+6j\n",
            "the list is:   ['1', '2.5', 'True', 'sudh', '4+6j']\n",
            "Original List: ['1', '2.5', 'True', 'sudh', '4+6j']\n",
            "After Cloning: ['1', '2.5', 'True', 'sudh', '4+6j']\n"
          ]
        }
      ]
    },
    {
      "cell_type": "code",
      "source": [
        "#11. Write a Python program to Count occurrences of an element in a list?\n",
        "\n",
        "def count(l,x):\n",
        "  return l.count(x)\n",
        "\n",
        "n=int(input(\"enter a  length of list :   \"))\n",
        "l=[]\n",
        "for i in range(n):\n",
        "  l.append(int(input(\"enter a number:  \")))\n",
        "  print(l)\n",
        "x=4\n",
        "print(\"Count occurrences of an element in a list\",x,\"is repeated\",count(l,x),\"times\")"
      ],
      "metadata": {
        "colab": {
          "base_uri": "https://localhost:8080/"
        },
        "id": "Fh_vlddPqL07",
        "outputId": "7aedea9b-3b3d-40ee-b0ba-c4def2c8fee0"
      },
      "execution_count": 11,
      "outputs": [
        {
          "output_type": "stream",
          "name": "stdout",
          "text": [
            "enter a  length of list :   8\n",
            "enter a number:  1\n",
            "[1]\n",
            "enter a number:  4\n",
            "[1, 4]\n",
            "enter a number:  5\n",
            "[1, 4, 5]\n",
            "enter a number:  3\n",
            "[1, 4, 5, 3]\n",
            "enter a number:  6\n",
            "[1, 4, 5, 3, 6]\n",
            "enter a number:  4\n",
            "[1, 4, 5, 3, 6, 4]\n",
            "enter a number:  2\n",
            "[1, 4, 5, 3, 6, 4, 2]\n",
            "enter a number:  3\n",
            "[1, 4, 5, 3, 6, 4, 2, 3]\n",
            "Count occurrences of an element in a list 4 is repeated 2 times\n"
          ]
        }
      ]
    },
    {
      "cell_type": "code",
      "source": [
        ""
      ],
      "metadata": {
        "colab": {
          "base_uri": "https://localhost:8080/"
        },
        "id": "2D7TOYjRrxF3",
        "outputId": "ca1028c0-e398-4331-f54d-affcb0eb3665"
      },
      "execution_count": 12,
      "outputs": [
        {
          "output_type": "execute_result",
          "data": {
            "text/plain": [
              "4"
            ]
          },
          "metadata": {},
          "execution_count": 12
        }
      ]
    }
  ]
}