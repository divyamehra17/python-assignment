{
  "nbformat": 4,
  "nbformat_minor": 0,
  "metadata": {
    "colab": {
      "name": "assignment5 basic programming .ipynb",
      "provenance": [],
      "authorship_tag": "ABX9TyPXJsGpnuDY5k2OVcCFBIbf",
      "include_colab_link": true
    },
    "kernelspec": {
      "name": "python3",
      "display_name": "Python 3"
    },
    "language_info": {
      "name": "python"
    }
  },
  "cells": [
    {
      "cell_type": "markdown",
      "metadata": {
        "id": "view-in-github",
        "colab_type": "text"
      },
      "source": [
        "<a href=\"https://colab.research.google.com/github/divyamehra17/python-assignment/blob/main/assignment5_basic_programming_.ipynb\" target=\"_parent\"><img src=\"https://colab.research.google.com/assets/colab-badge.svg\" alt=\"Open In Colab\"/></a>"
      ]
    },
    {
      "cell_type": "code",
      "execution_count": 1,
      "metadata": {
        "colab": {
          "base_uri": "https://localhost:8080/"
        },
        "id": "ehMnsQxNqf8E",
        "outputId": "7b3bb9c1-7785-4444-896b-fe04002aa52d"
      },
      "outputs": [
        {
          "output_type": "stream",
          "name": "stdout",
          "text": [
            "enter a first value is  2\n",
            "enter a second value is  4\n",
            "The L.C.M. is 4\n"
          ]
        }
      ],
      "source": [
        "#1. Write a Python Program to Find LCM?\n",
        "\n",
        "def find_lcm(a, b):\n",
        "   if a > b:\n",
        "       i = a\n",
        "   else:\n",
        "       i = b\n",
        "\n",
        "   for i in range(1, i+1):\n",
        "       if((i % a == 0) and (i % b == 0)):\n",
        "           lcm = i\n",
        "           return lcm\n",
        "\n",
        "x = int(input(\"enter a first value is  \"))\n",
        "y = int(input(\"enter a second value is  \"))\n",
        "\n",
        "print(\"The L.C.M. is\", find_lcm(x, y))"
      ]
    },
    {
      "cell_type": "code",
      "source": [
        "#2. Write a Python Program to Find HCF?\n",
        "\n",
        "def find_hcf(a, b):\n",
        "   if a > b:\n",
        "       i = a\n",
        "   else:\n",
        "       i = b\n",
        "\n",
        "   for i in range(1, i+1):\n",
        "       if((a % i == 0) and (b % i == 0)):\n",
        "           hcf =i\n",
        "           return hcf\n",
        "\n",
        "x = int(input(\"enter a first value is  \"))\n",
        "y = int(input(\"enter a second value is  \"))\n",
        "\n",
        "print(\"The H.C.F. is\", find_hcf(x, y))"
      ],
      "metadata": {
        "colab": {
          "base_uri": "https://localhost:8080/"
        },
        "id": "5QbV3Ng7sS03",
        "outputId": "ef6e5738-6a44-47de-cacf-366b2957a624"
      },
      "execution_count": 2,
      "outputs": [
        {
          "output_type": "stream",
          "name": "stdout",
          "text": [
            "enter a first value is  2\n",
            "enter a second value is  4\n",
            "The H.C.F. is 1\n"
          ]
        }
      ]
    },
    {
      "cell_type": "code",
      "source": [
        "#3. Write a Python Program to Convert Decimal to Binary, Octal and Hexadecimal?\n",
        "decimal=int(input(\"enter a decimal value is  \"))\n",
        "binary = bin(decimal)\n",
        "print(\"the decimal value is \",decimal,\" convert into binary is \",binary)\n",
        "octal = oct(decimal)\n",
        "print(\"the decimal value is \",decimal,\" convert into octal is \",octal)\n",
        "hexadecimal = hex(decimal)\n",
        "print(\"the decimal value is \",decimal,\"convert into hexadecimal is \",hexadecimal)"
      ],
      "metadata": {
        "colab": {
          "base_uri": "https://localhost:8080/"
        },
        "id": "Cap2J0kQwslR",
        "outputId": "bdf7e141-cd95-4d07-bca5-af7accf76195"
      },
      "execution_count": 3,
      "outputs": [
        {
          "output_type": "stream",
          "name": "stdout",
          "text": [
            "enter a decimal value is  10\n",
            "the decimal value is  10  convert into binary is  0b1010\n",
            "the decimal value is  10  convert into octal is  0o12\n",
            "the decimal value is  10 convert into hexadecimal is  0xa\n"
          ]
        }
      ]
    },
    {
      "cell_type": "code",
      "source": [
        "#4. Write a Python Program To Find ASCII value of a character?\n",
        "\n",
        "m = input(\"enter a character: \")    \n",
        "print (\"The ASCII value of '\" + m + \"' is \", ord(m))  "
      ],
      "metadata": {
        "colab": {
          "base_uri": "https://localhost:8080/"
        },
        "id": "fqlkj2YW6ovZ",
        "outputId": "0f950093-9587-424e-b8a6-e5d943d01647"
      },
      "execution_count": 4,
      "outputs": [
        {
          "output_type": "stream",
          "name": "stdout",
          "text": [
            "enter a character: l\n",
            "The ASCII value of 'l' is  108\n"
          ]
        }
      ]
    },
    {
      "cell_type": "code",
      "source": [
        "#5. Write a Python Program to Make a Simple Calculator with 4 basic mathematical operations?\n",
        "\n",
        "print(\"select the operation\")\n",
        "print(\"1.Add\")\n",
        "print(\"2.subtract\")\n",
        "print(\"3.multiplication\")\n",
        "print(\"4.division\")\n",
        "\n",
        "choice=(input(\"enter a choice(1/2/3/4) is:  \"))\n",
        "a=int(input(\"enter a first number is: \"))\n",
        "b=int(input(\"enter a second number is: \"))\n",
        "\n",
        "if choice == '1':\n",
        "  print(\"the\",a,\"+\",b,\"is\",a+b)\n",
        "elif choice == '2':\n",
        "  print(\"the\",a,\"-\",b,\"is\",a-b)\n",
        "elif choice == '3':\n",
        "  print(\"the\",a,\"*\",b,\"is\",a*b)\n",
        "elif choice =='4':\n",
        "  print(\"the\",a,\"/\",b,\"is\",a/b)\n",
        "else:\n",
        "    print(\"incorrect\")\n",
        "\n"
      ],
      "metadata": {
        "colab": {
          "base_uri": "https://localhost:8080/"
        },
        "id": "Eq6dcB_YChde",
        "outputId": "c78ffd12-05b4-4b1c-93b6-5326a6c92fc4"
      },
      "execution_count": 5,
      "outputs": [
        {
          "output_type": "stream",
          "name": "stdout",
          "text": [
            "select the operation\n",
            "1.Add\n",
            "2.subtract\n",
            "3.multiplication\n",
            "4.division\n",
            "enter a choice(1/2/3/4) is:  3\n",
            "enter a first number is: 6\n",
            "enter a second number is: 8\n",
            "the 6 * 8 is 48\n"
          ]
        }
      ]
    },
    {
      "cell_type": "code",
      "source": [
        ""
      ],
      "metadata": {
        "id": "wSIO5t-fGQxd"
      },
      "execution_count": 5,
      "outputs": []
    }
  ]
}