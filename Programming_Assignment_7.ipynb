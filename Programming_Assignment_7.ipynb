{
  "nbformat": 4,
  "nbformat_minor": 0,
  "metadata": {
    "colab": {
      "name": " Programming Assignment_7.ipynb",
      "provenance": [],
      "authorship_tag": "ABX9TyN9rbhUuQvxYp5NrBw8h6J1",
      "include_colab_link": true
    },
    "kernelspec": {
      "name": "python3",
      "display_name": "Python 3"
    },
    "language_info": {
      "name": "python"
    }
  },
  "cells": [
    {
      "cell_type": "markdown",
      "metadata": {
        "id": "view-in-github",
        "colab_type": "text"
      },
      "source": [
        "<a href=\"https://colab.research.google.com/github/divyamehra17/python-assignment/blob/main/Programming_Assignment_7.ipynb\" target=\"_parent\"><img src=\"https://colab.research.google.com/assets/colab-badge.svg\" alt=\"Open In Colab\"/></a>"
      ]
    },
    {
      "cell_type": "code",
      "execution_count": 32,
      "metadata": {
        "colab": {
          "base_uri": "https://localhost:8080/"
        },
        "id": "2VcYB6kPNB4A",
        "outputId": "b7878ea5-c17e-4c0a-f2c8-5497b13048a9"
      },
      "outputs": [
        {
          "output_type": "stream",
          "name": "stdout",
          "text": [
            "Enter the length of array: 4\n",
            "Enter numbers: 1\n",
            "Enter numbers: 2\n",
            "Enter numbers: 3\n",
            "Enter numbers: 4\n",
            "User inputs are [1, 2, 3, 4]\n",
            "the sum of array is:   10\n"
          ]
        }
      ],
      "source": [
        "#1. Write a Python Program to find sum of array?\n",
        "\n",
        "n = int(input(\"Enter the length of array: \"))\n",
        "arr = []\n",
        "for i in range(n):\n",
        "    arr.append(int(input(\"Enter numbers: \")))\n",
        "print(\"User inputs are\", arr)\n",
        "sum=0\n",
        "for i in arr:\n",
        "    sum=sum+i\n",
        "print (\"the sum of array is:  \",sum) "
      ]
    },
    {
      "cell_type": "code",
      "source": [
        "#2. Write a Python Program to find largest element in an array?\n",
        "\n",
        "\t\n",
        "n = int(input(\"Enter the length of array: \"))\n",
        "arr = []\n",
        "for i in range(n):\n",
        "    arr.append(int(input(\"Enter numbers: \")))\n",
        "print(\"User inputs are\", arr)\n",
        "max = arr[0]\t\n",
        "for i in range(1, n):\n",
        "\t\tif arr[i] > max:\n",
        "\t\t\tmax = arr[i]\n",
        "print(\"the largest element in an array is:  \",max)\n",
        "\n",
        "\n"
      ],
      "metadata": {
        "colab": {
          "base_uri": "https://localhost:8080/"
        },
        "id": "cQpEHDtBRrXX",
        "outputId": "f2aa0591-84b7-47de-d2b4-a5c12da69f55"
      },
      "execution_count": 28,
      "outputs": [
        {
          "output_type": "stream",
          "name": "stdout",
          "text": [
            "Enter the length of array: 4\n",
            "Enter numbers: 10\n",
            "Enter numbers: 3\n",
            "Enter numbers: 4\n",
            "Enter numbers: 5\n",
            "User inputs are [10, 3, 4, 5]\n",
            "the largest element in an array is:   10\n"
          ]
        }
      ]
    },
    {
      "cell_type": "code",
      "source": [
        "#3. Write a Python Program for array rotation?\n",
        "def rotate(num=[1,2,3,4,5,6,7], k=2):\n",
        "    i=0\n",
        "    while i < k:\n",
        "        pop_item = num.pop()\n",
        "        num.insert(0, pop_item)\n",
        "        i += 1\n",
        "\n",
        "    return num \n",
        "print(\"array rotation is :  \",rotate())\n"
      ],
      "metadata": {
        "colab": {
          "base_uri": "https://localhost:8080/"
        },
        "id": "jBed5zSJR-67",
        "outputId": "34f86ad4-9187-4ea0-9b27-846b59c8fb35"
      },
      "execution_count": 60,
      "outputs": [
        {
          "output_type": "stream",
          "name": "stdout",
          "text": [
            "array rotation is :   [6, 7, 1, 2, 3, 4, 5]\n"
          ]
        }
      ]
    },
    {
      "cell_type": "code",
      "source": [
        "#4. Write a Python Program to Split the array and add the first part to the end?\n",
        "arr = [1, 2, 3, 4, 5, 6]\n",
        "position = 2\n",
        "new_arr = arr[position:]+arr[:position]\n",
        "print(\"Split the array and add the first part to the end is:   \",new_arr)\n",
        "\n",
        "\n"
      ],
      "metadata": {
        "colab": {
          "base_uri": "https://localhost:8080/"
        },
        "id": "xbJ-6vcdXWfy",
        "outputId": "d904cc85-113a-49e7-81c5-0af8e9a61ad2"
      },
      "execution_count": 61,
      "outputs": [
        {
          "output_type": "stream",
          "name": "stdout",
          "text": [
            "Split the array and add the first part to the end is:    [3, 4, 5, 6, 1, 2]\n"
          ]
        }
      ]
    },
    {
      "cell_type": "code",
      "source": [
        "#5. Write a Python Program to check if given array is Monotonic?\n",
        "\n",
        "def isMonotonic(a):\n",
        "\n",
        "\treturn (all(a[i] <= a[i + 1] for i in range(len(a) - 1)) or\n",
        "\t\t\tall(a[i] >= a[i + 1] for i in range(len(a) - 1)))\n",
        "\n",
        "n = int(input(\"Enter the length of array: \"))\n",
        "a = []\n",
        "for i in range(n):\n",
        "    a.append(int(input(\"Enter numbers: \")))\n",
        "print(\"User inputs are\", a)\n",
        "\n",
        "print(\"the given array is monotonic is:  \",isMonotonic(a))\n",
        "\n",
        "\n",
        "\n"
      ],
      "metadata": {
        "colab": {
          "base_uri": "https://localhost:8080/"
        },
        "id": "DpHFwuHoX09p",
        "outputId": "be955609-b15c-4968-e062-8dc07232d7ec"
      },
      "execution_count": 59,
      "outputs": [
        {
          "output_type": "stream",
          "name": "stdout",
          "text": [
            "Enter the length of array: 5\n",
            "Enter numbers: 1\n",
            "Enter numbers: 2\n",
            "Enter numbers: 3\n",
            "Enter numbers: 4\n",
            "Enter numbers: 5\n",
            "User inputs are [1, 2, 3, 4, 5]\n",
            "the given array is monotonic is:   True\n"
          ]
        }
      ]
    },
    {
      "cell_type": "code",
      "source": [
        "1"
      ],
      "metadata": {
        "id": "1wduwv6PYVIl"
      },
      "execution_count": null,
      "outputs": []
    }
  ]
}