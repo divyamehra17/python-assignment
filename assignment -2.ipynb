{
 "cells": [
  {
   "cell_type": "code",
   "execution_count": 5,
   "id": "76db1778",
   "metadata": {},
   "outputs": [
    {
     "name": "stdout",
     "output_type": "stream",
     "text": [
      "enter the speed of the car in kilometer is :20\n",
      "the speed of the car in miles is: 12.427399999999999\n"
     ]
    }
   ],
   "source": [
    "#1. Write a Python program to convert kilometers to miles?\n",
    "\n",
    "#learning about def function-defining a function.\n",
    "\n",
    "def kilometer(km):\n",
    "    ratio=0.62137\n",
    "    miles=km*ratio\n",
    "    print(\"the speed of the car in miles is:\",miles)\n",
    "km=int(input(\"enter the speed of the car in kilometer is :\"))\n",
    "\n",
    "kilometer(km)"
   ]
  },
  {
   "cell_type": "code",
   "execution_count": 12,
   "id": "eea801fe",
   "metadata": {},
   "outputs": [
    {
     "name": "stdout",
     "output_type": "stream",
     "text": [
      "Enter the value in celsius is 12\n",
      " the value of fahrenheit is -36.0\n"
     ]
    }
   ],
   "source": [
    "#2. Write a Python program to convert Celsius to Fahrenheit?\n",
    "\n",
    "#learning about input function- take the input from the user.\n",
    "\n",
    "celsius=int(input(\"Enter the value in celsius is \"))\n",
    "Fahrenheit=(celsius-32)*1.8\n",
    "print(\" the value of fahrenheit is\",Fahrenheit)"
   ]
  },
  {
   "cell_type": "code",
   "execution_count": 14,
   "id": "1c2027e7",
   "metadata": {},
   "outputs": [
    {
     "name": "stdout",
     "output_type": "stream",
     "text": [
      "enter the month: 05\n",
      "enter the year: 2021\n",
      "      May 2021\n",
      "Mo Tu We Th Fr Sa Su\n",
      "                1  2\n",
      " 3  4  5  6  7  8  9\n",
      "10 11 12 13 14 15 16\n",
      "17 18 19 20 21 22 23\n",
      "24 25 26 27 28 29 30\n",
      "31\n",
      "\n"
     ]
    }
   ],
   "source": [
    "#3. Write a Python program to display calendar?\n",
    "\n",
    "#learning about-import calendar and syntax- calendar.month(yy,mm)\n",
    "\n",
    "import calendar\n",
    "mm=int(input(\"enter the month: \"))\n",
    "yy=int(input(\"enter the year: \"))\n",
    "\n",
    "print(calendar.month(yy,mm))"
   ]
  },
  {
   "cell_type": "code",
   "execution_count": 17,
   "id": "57f25ba2",
   "metadata": {},
   "outputs": [
    {
     "name": "stdout",
     "output_type": "stream",
     "text": [
      "enter the a value is: 14\n",
      "enter the b value is: 15\n",
      "enter the c value is: 16\n",
      "The solution are(-0.5357142857142857-0.9251309890706156j) and (-0.5357142857142857+0.9251309890706156j)\n"
     ]
    }
   ],
   "source": [
    "#4. Write a Python program to solve quadratic equation?\n",
    "\n",
    "#learning about-cmath-The functions in this module accept integers, floating-point numbers or complex numbers as arguments.\n",
    "#The format() method formats the specified value(s) and insert them inside the string's placeholder.\n",
    "\n",
    "import cmath\n",
    "a=int(input(\"enter the a value is: \"))\n",
    "b=int(input(\"enter the b value is: \"))\n",
    "c=int(input(\"enter the c value is: \"))\n",
    "\n",
    "d = (b**2) - (4*a*c)\n",
    "\n",
    "x1 = (-b-cmath.sqrt(d))/(2*a)  \n",
    "x2 = (-b+cmath.sqrt(d))/(2*a)  \n",
    "print('The solution are{0} and {1}'.format(x1,x2)) \n",
    "\n"
   ]
  },
  {
   "cell_type": "code",
   "execution_count": 18,
   "id": "ba21ef09",
   "metadata": {},
   "outputs": [
    {
     "name": "stdout",
     "output_type": "stream",
     "text": [
      "enter the value of a : 10\n",
      "enter the value of b : 12\n",
      "after swaping a=  12 after swaping b=  10\n"
     ]
    }
   ],
   "source": [
    "# 5. Write a Python program to swap two variables without temp variable?\n",
    "a=int(input(\"enter the value of a : \"))\n",
    "b=int(input(\"enter the value of b : \"))\n",
    "\n",
    "#using addition and subtraction\n",
    "\n",
    "a=a+b\n",
    "b=a-b\n",
    "a=a-b\n",
    "\n",
    "print(\"after swaping a= \",a ,\"after swaping b= \",b)"
   ]
  },
  {
   "cell_type": "code",
   "execution_count": null,
   "id": "f0a7e76a",
   "metadata": {},
   "outputs": [],
   "source": []
  }
 ],
 "metadata": {
  "kernelspec": {
   "display_name": "Python 3 (ipykernel)",
   "language": "python",
   "name": "python3"
  },
  "language_info": {
   "codemirror_mode": {
    "name": "ipython",
    "version": 3
   },
   "file_extension": ".py",
   "mimetype": "text/x-python",
   "name": "python",
   "nbconvert_exporter": "python",
   "pygments_lexer": "ipython3",
   "version": "3.9.7"
  }
 },
 "nbformat": 4,
 "nbformat_minor": 5
}
