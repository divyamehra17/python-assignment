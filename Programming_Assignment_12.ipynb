{
  "nbformat": 4,
  "nbformat_minor": 0,
  "metadata": {
    "colab": {
      "name": "Programming Assignment_12.ipynb",
      "provenance": [],
      "collapsed_sections": [],
      "authorship_tag": "ABX9TyM/NmtyfxVRO1aNAicBqYVm",
      "include_colab_link": true
    },
    "kernelspec": {
      "name": "python3",
      "display_name": "Python 3"
    },
    "language_info": {
      "name": "python"
    }
  },
  "cells": [
    {
      "cell_type": "markdown",
      "metadata": {
        "id": "view-in-github",
        "colab_type": "text"
      },
      "source": [
        "<a href=\"https://colab.research.google.com/github/divyamehra17/python-assignment/blob/main/Programming_Assignment_12.ipynb\" target=\"_parent\"><img src=\"https://colab.research.google.com/assets/colab-badge.svg\" alt=\"Open In Colab\"/></a>"
      ]
    },
    {
      "cell_type": "code",
      "execution_count": null,
      "metadata": {
        "colab": {
          "base_uri": "https://localhost:8080/"
        },
        "id": "yt0R0bhPzoSu",
        "outputId": "77e03167-f03c-4e84-a0a4-9257977e4e05"
      },
      "outputs": [
        {
          "output_type": "execute_result",
          "data": {
            "text/plain": [
              "{'movies', 'music', 'news', 'sports'}"
            ]
          },
          "metadata": {},
          "execution_count": 5
        }
      ],
      "source": [
        "#1. Write a Python program to Extract Unique values dictionary values?\n",
        "\n",
        "l= [{\"abc\":\"movies\"}, {\"abc\": \"sports\"}, {\"abc\": \"music\"}, {\"xyz\": \"music\"}, {\"pqr\":\"music\"}, {\"pqr\":\"movies\"},{\"pqr\":\"sports\"}, {\"pqr\":\"news\"},{\"pqr\":\"sports\"}]\n",
        "s = set( val for dic in l for val in dic.values())\n",
        "s \n"
      ]
    },
    {
      "cell_type": "code",
      "source": [
        "#2. Write a Python program to find the sum of all items in a dictionary?\n",
        "\n",
        "def sum_dict(d):\n",
        " sum = 0\n",
        " for i in d.values():\n",
        "           sum = sum + i\n",
        " return sum\n",
        "d = {'key1': 1, 'key2':2, 'key3':3}\n",
        "print(\"Sum :\", sum_dict(d))"
      ],
      "metadata": {
        "colab": {
          "base_uri": "https://localhost:8080/"
        },
        "id": "2-nhPTgk9B3y",
        "outputId": "08bcd09b-85d2-4aef-aad2-4b37bda088f8"
      },
      "execution_count": null,
      "outputs": [
        {
          "output_type": "stream",
          "name": "stdout",
          "text": [
            "Sum : 6\n"
          ]
        }
      ]
    },
    {
      "cell_type": "code",
      "source": [
        "#3.Write a Python program to Merging two Dictionaries?\n",
        "\n",
        "def merge(x,y):\n",
        "  final = {**x, **y}\n",
        "  return final\n",
        "\n",
        "x = {'a':1, 'b': 2}\n",
        "y = {'c':10, 'd': 11}\n",
        "z= merge(x,y)\n",
        "print(z)"
      ],
      "metadata": {
        "colab": {
          "base_uri": "https://localhost:8080/"
        },
        "id": "4HrgjuKb-cu0",
        "outputId": "27368975-52e1-4995-c1ab-575ca320ad26"
      },
      "execution_count": null,
      "outputs": [
        {
          "output_type": "stream",
          "name": "stdout",
          "text": [
            "{'a': 1, 'b': 2, 'c': 10, 'd': 11}\n"
          ]
        }
      ]
    },
    {
      "cell_type": "code",
      "source": [
        "#4. Write a Python program to convert key-values list to flat dictionary?\n",
        "\n",
        "\n",
        "dict = {'name' : [\"devansh\", \"diya\", \"div\"],'join' : ['Jan', 'Feb', 'March']}\n",
        "\n",
        "print(\"The original dictionary is : \" + str(dict))\n",
        "\n",
        "s_result = (zip(dict['name'],dict['join']))\n",
        "\n",
        "s_result1=dict(s_result)\n",
        "\n",
        "print(\"Flattened dictionary : \" + str(s_result1))\n",
        "\n",
        "\n",
        "\n",
        "\n"
      ],
      "metadata": {
        "colab": {
          "base_uri": "https://localhost:8080/",
          "height": 252
        },
        "id": "4ViqwLorCVDD",
        "outputId": "4afb041d-1e4d-483a-ccb0-0bc8eda51449"
      },
      "execution_count": 10,
      "outputs": [
        {
          "output_type": "stream",
          "name": "stdout",
          "text": [
            "The original dictionary is : {'name': ['devansh', 'diya', 'div'], 'join': ['Jan', 'Feb', 'March']}\n"
          ]
        },
        {
          "output_type": "error",
          "ename": "TypeError",
          "evalue": "ignored",
          "traceback": [
            "\u001b[0;31m---------------------------------------------------------------------------\u001b[0m",
            "\u001b[0;31mTypeError\u001b[0m                                 Traceback (most recent call last)",
            "\u001b[0;32m<ipython-input-10-16b272b6792b>\u001b[0m in \u001b[0;36m<module>\u001b[0;34m()\u001b[0m\n\u001b[1;32m      8\u001b[0m \u001b[0ms_result\u001b[0m \u001b[0;34m=\u001b[0m \u001b[0;34m(\u001b[0m\u001b[0mzip\u001b[0m\u001b[0;34m(\u001b[0m\u001b[0mdict\u001b[0m\u001b[0;34m[\u001b[0m\u001b[0;34m'name'\u001b[0m\u001b[0;34m]\u001b[0m\u001b[0;34m,\u001b[0m\u001b[0mdict\u001b[0m\u001b[0;34m[\u001b[0m\u001b[0;34m'join'\u001b[0m\u001b[0;34m]\u001b[0m\u001b[0;34m)\u001b[0m\u001b[0;34m)\u001b[0m\u001b[0;34m\u001b[0m\u001b[0;34m\u001b[0m\u001b[0m\n\u001b[1;32m      9\u001b[0m \u001b[0;34m\u001b[0m\u001b[0m\n\u001b[0;32m---> 10\u001b[0;31m \u001b[0ms_result1\u001b[0m\u001b[0;34m=\u001b[0m\u001b[0mdict\u001b[0m\u001b[0;34m(\u001b[0m\u001b[0ms_result\u001b[0m\u001b[0;34m)\u001b[0m\u001b[0;34m\u001b[0m\u001b[0;34m\u001b[0m\u001b[0m\n\u001b[0m\u001b[1;32m     11\u001b[0m \u001b[0;34m\u001b[0m\u001b[0m\n\u001b[1;32m     12\u001b[0m \u001b[0mprint\u001b[0m\u001b[0;34m(\u001b[0m\u001b[0;34m\"Flattened dictionary : \"\u001b[0m \u001b[0;34m+\u001b[0m \u001b[0mstr\u001b[0m\u001b[0;34m(\u001b[0m\u001b[0ms_result1\u001b[0m\u001b[0;34m)\u001b[0m\u001b[0;34m)\u001b[0m\u001b[0;34m\u001b[0m\u001b[0;34m\u001b[0m\u001b[0m\n",
            "\u001b[0;31mTypeError\u001b[0m: 'dict' object is not callable"
          ]
        }
      ]
    },
    {
      "cell_type": "code",
      "source": [
        "#5. Write a Python program to insertion at the beginning in OrderedDict?\n",
        "from collections import OrderedDict\n",
        "d = OrderedDict([('a', '1'), ('b', '2')])\n",
        "d.update({'c':'3'})\n",
        "d.move_to_end('c', last=False)\n",
        "d"
      ],
      "metadata": {
        "colab": {
          "base_uri": "https://localhost:8080/"
        },
        "id": "kgTxOfLjufqu",
        "outputId": "7aa2736c-990d-490e-8784-53d4ad4039c5"
      },
      "execution_count": 13,
      "outputs": [
        {
          "output_type": "execute_result",
          "data": {
            "text/plain": [
              "OrderedDict([('c', '3'), ('a', '1'), ('b', '2')])"
            ]
          },
          "metadata": {},
          "execution_count": 13
        }
      ]
    },
    {
      "cell_type": "code",
      "source": [
        "#6. Write a Python program to check order of character in string using OrderedDict()?\n",
        "\n",
        "from collections import OrderedDict  \n",
        "def check(user_input, user_pattern):  \n",
        "   user_dict = OrderedDict.fromkeys(user_input)  \n",
        "   pattern_length = 0  \n",
        "   for key,value in user_dict.items():  \n",
        "      if (key == user_pattern[pattern_length]):  \n",
        "         pattern_length = pattern_length + 1  \n",
        "         if (pattern_length == (len(user_pattern))):  \n",
        "          return 'The order of pattern is correct'  \n",
        "   return 'The order of pattern is incorrect' \n",
        "\n",
        "user_input = 'engineers rock'\n",
        "user_pattern = 'egr'\n",
        "print(check(user_input,user_pattern)) \n"
      ],
      "metadata": {
        "id": "CinXZdY-IwGB",
        "colab": {
          "base_uri": "https://localhost:8080/"
        },
        "outputId": "07d1b126-b50e-4b46-f217-6f574dc67cbb"
      },
      "execution_count": 16,
      "outputs": [
        {
          "output_type": "stream",
          "name": "stdout",
          "text": [
            "The order of pattern is correct\n"
          ]
        }
      ]
    },
    {
      "cell_type": "code",
      "source": [
        "#7. Write a Python program to sort Python Dictionaries by Key or Value?\n",
        "\n",
        "def dict():\n",
        "  x={}\n",
        "  x = {1: 2, 3: 4, 4: 3, 2: 1, 0: 0}\n",
        "  print(\"key:  \",sorted(x.keys())) \n",
        "  print(\"value:   \",sorted(x.values()))\n",
        "   \n",
        "dict()"
      ],
      "metadata": {
        "colab": {
          "base_uri": "https://localhost:8080/"
        },
        "id": "hLMssMWhylhC",
        "outputId": "30af6279-cecc-45c1-b88c-4f89350daab2"
      },
      "execution_count": 20,
      "outputs": [
        {
          "output_type": "stream",
          "name": "stdout",
          "text": [
            "key:   [0, 1, 2, 3, 4]\n",
            "value:    [0, 1, 2, 3, 4]\n"
          ]
        }
      ]
    },
    {
      "cell_type": "code",
      "source": [
        ""
      ],
      "metadata": {
        "id": "AQcZLG5G5EzP"
      },
      "execution_count": null,
      "outputs": []
    }
  ]
}