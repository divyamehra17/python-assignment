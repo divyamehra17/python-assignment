{
 "cells": [
  {
   "cell_type": "code",
   "execution_count": 1,
   "id": "29e91996",
   "metadata": {},
   "outputs": [
    {
     "ename": "SyntaxError",
     "evalue": "invalid syntax (Temp/ipykernel_1408/2066468888.py, line 2)",
     "output_type": "error",
     "traceback": [
      "\u001b[1;36m  File \u001b[1;32m\"C:\\Users\\DIVYAM~1\\AppData\\Local\\Temp/ipykernel_1408/2066468888.py\"\u001b[1;36m, line \u001b[1;32m2\u001b[0m\n\u001b[1;33m    integer or string and expressions will be mathematical operators.\u001b[0m\n\u001b[1;37m                                      ^\u001b[0m\n\u001b[1;31mSyntaxError\u001b[0m\u001b[1;31m:\u001b[0m invalid syntax\n"
     ]
    }
   ],
   "source": [
    "#1. 1. In the below elements which of them are values or an expression? eg:- values can be\n",
    "integer or string and expressions will be mathematical operators.\n",
    "\n",
    "*-  expression\n",
    "'hello'-value\n",
    "-87.8 -value\n",
    "- -expression\n",
    "/ -expression\n",
    "+ -expression\n",
    "6 -value"
   ]
  },
  {
   "cell_type": "code",
   "execution_count": 2,
   "id": "bb0c73ba",
   "metadata": {},
   "outputs": [
    {
     "ename": "SyntaxError",
     "evalue": "invalid syntax (Temp/ipykernel_1408/4154392824.py, line 2)",
     "output_type": "error",
     "traceback": [
      "\u001b[1;36m  File \u001b[1;32m\"C:\\Users\\DIVYAM~1\\AppData\\Local\\Temp/ipykernel_1408/4154392824.py\"\u001b[1;36m, line \u001b[1;32m2\u001b[0m\n\u001b[1;33m    string can be written in single quote and double quote .\u001b[0m\n\u001b[1;37m           ^\u001b[0m\n\u001b[1;31mSyntaxError\u001b[0m\u001b[1;31m:\u001b[0m invalid syntax\n"
     ]
    }
   ],
   "source": [
    "#2.What is the difference between string and variable?\n",
    "string can be written in single quote and double quote .\n",
    "for example-'div',\"toy\"\n",
    "variable-to store a value\n",
    "for example- a=10"
   ]
  },
  {
   "cell_type": "code",
   "execution_count": 3,
   "id": "687ef51a",
   "metadata": {},
   "outputs": [
    {
     "ename": "SyntaxError",
     "evalue": "invalid syntax (Temp/ipykernel_1408/3942139556.py, line 2)",
     "output_type": "error",
     "traceback": [
      "\u001b[1;36m  File \u001b[1;32m\"C:\\Users\\DIVYAM~1\\AppData\\Local\\Temp/ipykernel_1408/3942139556.py\"\u001b[1;36m, line \u001b[1;32m2\u001b[0m\n\u001b[1;33m    int()-An integer is a whole number (not a fraction) that can be positive, negative, or zero.\u001b[0m\n\u001b[1;37m             ^\u001b[0m\n\u001b[1;31mSyntaxError\u001b[0m\u001b[1;31m:\u001b[0m invalid syntax\n"
     ]
    }
   ],
   "source": [
    "#3.Describe three different data types.\n",
    "int()-An integer is a whole number (not a fraction) that can be positive, negative, or zero.\n",
    "for example-10\n",
    "float()-represents the floating point number.\n",
    "for example-45.2\n",
    "boolean- stores TRUE or FALSE data values."
   ]
  },
  {
   "cell_type": "code",
   "execution_count": 4,
   "id": "e5d019ab",
   "metadata": {},
   "outputs": [
    {
     "ename": "SyntaxError",
     "evalue": "invalid syntax (Temp/ipykernel_1408/2781739979.py, line 2)",
     "output_type": "error",
     "traceback": [
      "\u001b[1;36m  File \u001b[1;32m\"C:\\Users\\DIVYAM~1\\AppData\\Local\\Temp/ipykernel_1408/2781739979.py\"\u001b[1;36m, line \u001b[1;32m2\u001b[0m\n\u001b[1;33m    An expression is a combination of values, variables, operators, and calls to functions. Expressions need to be evaluated. If you ask Python to print an expression, the interpreter evaluates the expression and displays the result.\u001b[0m\n\u001b[1;37m       ^\u001b[0m\n\u001b[1;31mSyntaxError\u001b[0m\u001b[1;31m:\u001b[0m invalid syntax\n"
     ]
    }
   ],
   "source": [
    "#4.What is an expression made up of? What do all expressions do?\n",
    "An expression is a combination of values, variables, operators, and calls to functions. Expressions need to be evaluated. If you ask Python to print an expression, the interpreter evaluates the expression and displays the result.\n",
    "for example-print(2)"
   ]
  },
  {
   "cell_type": "code",
   "execution_count": 5,
   "id": "c044a535",
   "metadata": {},
   "outputs": [
    {
     "name": "stdout",
     "output_type": "stream",
     "text": [
      "2\n"
     ]
    }
   ],
   "source": [
    "#5.This assignment statements, like spam = 10. What is the difference between an expression and a statement?\n",
    "Expression is made up of values, variable, and mathematical operators (operands) and the statement is just like a command that a python interpreter executes like print."
   ]
  },
  {
   "cell_type": "code",
   "execution_count": 6,
   "id": "851b3000",
   "metadata": {},
   "outputs": [
    {
     "data": {
      "text/plain": [
       "23"
      ]
     },
     "execution_count": 6,
     "metadata": {},
     "output_type": "execute_result"
    }
   ],
   "source": [
    "#6. After running the following code, what does the variable bacon contain?\n",
    "bacon = 22\n",
    "bacon + 1"
   ]
  },
  {
   "cell_type": "code",
   "execution_count": 9,
   "id": "3f87cfb2",
   "metadata": {},
   "outputs": [
    {
     "name": "stdout",
     "output_type": "stream",
     "text": [
      "spamspamspam , spamspamspam\n"
     ]
    }
   ],
   "source": [
    "#7. What should the values of the following two terms be?\n",
    "x='spam' + 'spamspam'\n",
    "\n",
    "y='spam' * 3\n",
    "\n",
    "print(x,\",\",y)"
   ]
  },
  {
   "cell_type": "code",
   "execution_count": 10,
   "id": "8f678945",
   "metadata": {},
   "outputs": [
    {
     "ename": "SyntaxError",
     "evalue": "invalid syntax (Temp/ipykernel_1408/2820474143.py, line 2)",
     "output_type": "error",
     "traceback": [
      "\u001b[1;36m  File \u001b[1;32m\"C:\\Users\\DIVYAM~1\\AppData\\Local\\Temp/ipykernel_1408/2820474143.py\"\u001b[1;36m, line \u001b[1;32m2\u001b[0m\n\u001b[1;33m    because we can't start variable as  an integer name. if, we should begin with, a string-like alphabet name then integer.  eggs100 then it is valid\u001b[0m\n\u001b[1;37m            ^\u001b[0m\n\u001b[1;31mSyntaxError\u001b[0m\u001b[1;31m:\u001b[0m invalid syntax\n"
     ]
    }
   ],
   "source": [
    "#8. Why is eggs a valid variable name while 100 is invalid?\n",
    "because we can't start variable as  an integer name. if, we should begin with, a string-like alphabet name then integer.  eggs100 then it is valid"
   ]
  },
  {
   "cell_type": "code",
   "execution_count": 11,
   "id": "f816260a",
   "metadata": {},
   "outputs": [
    {
     "data": {
      "text/plain": [
       "(0, '', 0.0)"
      ]
     },
     "execution_count": 11,
     "metadata": {},
     "output_type": "execute_result"
    }
   ],
   "source": [
    "#9.What three functions can be used to get the integer, floating-point number, or string version of a value?\n",
    "\n",
    "the three function can be used is--int(),str(),float()"
   ]
  },
  {
   "cell_type": "code",
   "execution_count": 12,
   "id": "0c0b61e7",
   "metadata": {},
   "outputs": [
    {
     "ename": "TypeError",
     "evalue": "can only concatenate str (not \"int\") to str",
     "output_type": "error",
     "traceback": [
      "\u001b[1;31m---------------------------------------------------------------------------\u001b[0m",
      "\u001b[1;31mTypeError\u001b[0m                                 Traceback (most recent call last)",
      "\u001b[1;32mC:\\Users\\DIVYAM~1\\AppData\\Local\\Temp/ipykernel_1408/1442327003.py\u001b[0m in \u001b[0;36m<module>\u001b[1;34m\u001b[0m\n\u001b[0;32m      1\u001b[0m \u001b[1;31m#10.Why does this expression cause an error? How can you fix it?\u001b[0m\u001b[1;33m\u001b[0m\u001b[1;33m\u001b[0m\u001b[0m\n\u001b[1;32m----> 2\u001b[1;33m \u001b[1;34m'I have eaten'\u001b[0m \u001b[1;33m+\u001b[0m \u001b[1;36m99\u001b[0m \u001b[1;33m+\u001b[0m \u001b[1;34m'burritos'\u001b[0m\u001b[1;33m\u001b[0m\u001b[1;33m\u001b[0m\u001b[0m\n\u001b[0m",
      "\u001b[1;31mTypeError\u001b[0m: can only concatenate str (not \"int\") to str"
     ]
    }
   ],
   "source": [
    "#10.Why does this expression cause an error? How can you fix it?\n",
    "'I have eaten' + 99 + 'burritos'\n",
    "\n",
    "in this it give me type error concatenate str to str (not str to int),here 99 is an int and remaning is str. so concatenate str to int is not possible\n",
    "\n",
    "\n"
   ]
  },
  {
   "cell_type": "code",
   "execution_count": 15,
   "id": "523c8f69",
   "metadata": {},
   "outputs": [
    {
     "name": "stdout",
     "output_type": "stream",
     "text": [
      "I have eaten99burritos\n",
      "I have eaten99burritos\n"
     ]
    }
   ],
   "source": [
    "#How can you fix it?\n",
    "#there are two option first one is\n",
    "x='I have eaten' + '99' + 'burritos'\n",
    "#second one is type casting\n",
    "y='I have eaten' + str(99) + 'burritos'\n",
    "\n",
    "print(x)\n",
    "print(y)\n"
   ]
  },
  {
   "cell_type": "code",
   "execution_count": null,
   "id": "21660bb7",
   "metadata": {},
   "outputs": [],
   "source": []
  }
 ],
 "metadata": {
  "kernelspec": {
   "display_name": "Python 3 (ipykernel)",
   "language": "python",
   "name": "python3"
  },
  "language_info": {
   "codemirror_mode": {
    "name": "ipython",
    "version": 3
   },
   "file_extension": ".py",
   "mimetype": "text/x-python",
   "name": "python",
   "nbconvert_exporter": "python",
   "pygments_lexer": "ipython3",
   "version": "3.9.7"
  }
 },
 "nbformat": 4,
 "nbformat_minor": 5
}
