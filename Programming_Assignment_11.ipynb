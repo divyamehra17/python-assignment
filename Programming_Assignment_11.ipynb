{
  "nbformat": 4,
  "nbformat_minor": 0,
  "metadata": {
    "colab": {
      "name": " Programming Assignment_11.ipynb",
      "provenance": [],
      "authorship_tag": "ABX9TyNd6SLMHhPdImq02hp1mzv1",
      "include_colab_link": true
    },
    "kernelspec": {
      "name": "python3",
      "display_name": "Python 3"
    },
    "language_info": {
      "name": "python"
    }
  },
  "cells": [
    {
      "cell_type": "markdown",
      "metadata": {
        "id": "view-in-github",
        "colab_type": "text"
      },
      "source": [
        "<a href=\"https://colab.research.google.com/github/divyamehra17/python-assignment/blob/main/Programming_Assignment_11.ipynb\" target=\"_parent\"><img src=\"https://colab.research.google.com/assets/colab-badge.svg\" alt=\"Open In Colab\"/></a>"
      ]
    },
    {
      "cell_type": "code",
      "execution_count": 2,
      "metadata": {
        "colab": {
          "base_uri": "https://localhost:8080/"
        },
        "id": "M-WDjHH-CDWl",
        "outputId": "2b998dc4-08e6-40b2-b1c5-e6fe511f8b2e"
      },
      "outputs": [
        {
          "output_type": "stream",
          "name": "stdout",
          "text": [
            "enter a words:    A quick brown fox jump over the lamp.\n",
            "['quick', 'brown', 'lamp.']\n"
          ]
        }
      ],
      "source": [
        "#1. Write a Python program to find words which are greater than given length k?\n",
        "\n",
        "\n",
        "s=input(\"enter a words:    \")\n",
        "length = 4\n",
        "print( [ x for x in s.split() if len(x) > length ] )\n"
      ]
    },
    {
      "cell_type": "code",
      "source": [
        "#2.Write a Python program for removing i-th character from a string?\n",
        "def remove_str(s,i):\n",
        "   a=s[:i]\n",
        "   b=s[i+1:]\n",
        "   return a+b \n",
        "s=input(\"enter a original sentence:    \")\n",
        "i = 4\n",
        "print(\"enter a sentence after removing the i-th character from a string:  \",remove_str(s,i))\n",
        "\n"
      ],
      "metadata": {
        "colab": {
          "base_uri": "https://localhost:8080/"
        },
        "id": "3Ht7AQ65EcTb",
        "outputId": "74aaf158-e7a3-4b8f-8798-b6725bb03cbc"
      },
      "execution_count": 9,
      "outputs": [
        {
          "output_type": "stream",
          "name": "stdout",
          "text": [
            "enter a original sentence:    A quick brown fox jump over the lamp\n",
            "enter a sentence after removing the i-th character from a string:   A quck brown fox jump over the lamp\n"
          ]
        }
      ]
    },
    {
      "cell_type": "code",
      "source": [
        "#3. Write a Python program to split and join a string?\n",
        "def sentence_split(s):\n",
        "  l=s.split(' ')\n",
        "  return l\n",
        "def sentence_join(l):\n",
        "  l1='*'.join(l)\n",
        "  return l1\n",
        "\n",
        "s=input(\"enter a sentence:      \")\n",
        "l=sentence_split(s)\n",
        "print(\"split a string:    \",l)\n",
        "\n",
        "l2=sentence_join(l)\n",
        "print(\"join a string:    \",l2)"
      ],
      "metadata": {
        "colab": {
          "base_uri": "https://localhost:8080/"
        },
        "id": "V-3i4NToHFsg",
        "outputId": "1d7a8f5e-1cd3-4f71-ef26-ab9403044570"
      },
      "execution_count": 16,
      "outputs": [
        {
          "output_type": "stream",
          "name": "stdout",
          "text": [
            "enter a sentence:      Write a Python program to split and join a string?\n",
            "split a string:     ['Write', 'a', 'Python', 'program', 'to', 'split', 'and', 'join', 'a', 'string?']\n",
            "join a string:     Write*a*Python*program*to*split*and*join*a*string?\n"
          ]
        }
      ]
    },
    {
      "cell_type": "code",
      "source": [
        "#4. Write a Python to check if a given string is binary string or not?\n",
        "\n",
        "\n",
        "def check_string(str) :\n",
        "  p = set(str)\n",
        "  b = {'0', '1'}\n",
        "  if b == p or p == {'0'} or p == {'1'}:\n",
        "    print(\"Yes\")\n",
        "  else :\n",
        "    print(\"No\")\n",
        "\t\n",
        "str = input(\"enter a string:    \")\n",
        "check_string(str)\n"
      ],
      "metadata": {
        "colab": {
          "base_uri": "https://localhost:8080/"
        },
        "id": "z8eOu2kpMBEs",
        "outputId": "d636a6a7-b1b9-47ae-9ba9-a5da2d26fad1"
      },
      "execution_count": 8,
      "outputs": [
        {
          "output_type": "stream",
          "name": "stdout",
          "text": [
            "enter a string:    10101110\n",
            "Yes\n"
          ]
        }
      ]
    },
    {
      "cell_type": "code",
      "source": [
        "#5. Write a Python program to find uncommon words from two Strings?\n",
        "def uncommon_word(a,b):\n",
        "  a=a.split()\n",
        "  b=b.split()\n",
        "  k=set(a).symmetric_difference(set(b))\n",
        "  return k\n",
        "\n",
        "a=\"hey hello bye tata hi\"\n",
        "b=\"hey hello bye hi\"\n",
        "print(list(uncommon_word(a,b)))\n"
      ],
      "metadata": {
        "colab": {
          "base_uri": "https://localhost:8080/"
        },
        "id": "QCDehUVgQBtm",
        "outputId": "b767ac22-fbf4-4311-8ce3-bb01a25df986"
      },
      "execution_count": 13,
      "outputs": [
        {
          "output_type": "stream",
          "name": "stdout",
          "text": [
            "['tata']\n"
          ]
        }
      ]
    },
    {
      "cell_type": "code",
      "source": [
        "#6.Write a Python to find all duplicate characters in string?\n",
        "\n",
        "def find_duplicate():\n",
        "  x = input(\"Enter a word = \")\n",
        "  for char in set(x):\n",
        "    counts = x.count(char)\n",
        "    while counts > 1:\n",
        "       print(char, \":\", counts, end=' ')\n",
        "       break\n",
        "find_duplicate()"
      ],
      "metadata": {
        "colab": {
          "base_uri": "https://localhost:8080/"
        },
        "id": "rReszV40deU0",
        "outputId": "bfc7f355-a337-4d11-aa00-fc1f85a8958f"
      },
      "execution_count": 15,
      "outputs": [
        {
          "output_type": "stream",
          "name": "stdout",
          "text": [
            "Enter a word = goodness\n",
            "o : 2 s : 2 "
          ]
        }
      ]
    },
    {
      "cell_type": "code",
      "source": [
        "#7. Write a Python Program to check if a string contains any special character?\n",
        "special_characters = \"!@#$%^&*()-+?_=,.<>/\"\n",
        "s=input(\"enter a string:    \" )\n",
        "\n",
        "if any(c in special_characters for c in s):\n",
        "    print(\"yes\")\n",
        "else:\n",
        "    print(\"no\")"
      ],
      "metadata": {
        "colab": {
          "base_uri": "https://localhost:8080/"
        },
        "id": "y06lLDkpw1g8",
        "outputId": "df0f06b2-2d1b-4cad-e81d-62f956d5488b"
      },
      "execution_count": 17,
      "outputs": [
        {
          "output_type": "stream",
          "name": "stdout",
          "text": [
            "enter a string:    hsjahd@jsdjha?\n",
            "yes\n"
          ]
        }
      ]
    },
    {
      "cell_type": "code",
      "source": [
        ""
      ],
      "metadata": {
        "id": "Y9pBbyzxx0NR"
      },
      "execution_count": null,
      "outputs": []
    }
  ]
}