{
  "nbformat": 4,
  "nbformat_minor": 0,
  "metadata": {
    "colab": {
      "name": "python assignment 4.ipynb",
      "provenance": [],
      "authorship_tag": "ABX9TyMmQ0EYzVfuEVA9SyN42tbI",
      "include_colab_link": true
    },
    "kernelspec": {
      "name": "python3",
      "display_name": "Python 3"
    },
    "language_info": {
      "name": "python"
    }
  },
  "cells": [
    {
      "cell_type": "markdown",
      "metadata": {
        "id": "view-in-github",
        "colab_type": "text"
      },
      "source": [
        "<a href=\"https://colab.research.google.com/github/divyamehra17/python-assignment/blob/main/python_assignment_4.ipynb\" target=\"_parent\"><img src=\"https://colab.research.google.com/assets/colab-badge.svg\" alt=\"Open In Colab\"/></a>"
      ]
    },
    {
      "cell_type": "code",
      "execution_count": null,
      "metadata": {
        "colab": {
          "base_uri": "https://localhost:8080/"
        },
        "id": "Us85Gpj9q42x",
        "outputId": "220cd1f8-b56b-413a-f3e1-503ed5572a7b"
      },
      "outputs": [
        {
          "output_type": "stream",
          "name": "stdout",
          "text": [
            "enter a value is  2\n",
            "the factorial of  2 is 2\n"
          ]
        }
      ],
      "source": [
        "#1. Write a Python Program to Find the Factorial of a Number?\n",
        "\n",
        "def factorial(n):\n",
        "    return 1 if (n==0 or n==1) else n*factorial(n-1)\n",
        "n=int(input(\"enter a value is  \"))\n",
        "print(\"the factorial of \",n,\"is\",factorial(n))"
      ]
    },
    {
      "cell_type": "code",
      "source": [
        "#2. Write a Python Program to Display the multiplication Table?\n",
        "\n",
        "n=int(input(\"enter a number is: \"))\n",
        "print(\"the multiplication of \",n)\n",
        "\n",
        "for i in range (1,21):\n",
        "    print(n,\"x\",i,\"=\",n*i)"
      ],
      "metadata": {
        "colab": {
          "base_uri": "https://localhost:8080/"
        },
        "id": "vSdpoOPzq9nS",
        "outputId": "9701ba2f-3c84-450b-f2ad-9d1fe498e804"
      },
      "execution_count": null,
      "outputs": [
        {
          "output_type": "stream",
          "name": "stdout",
          "text": [
            "enter a number is: 3\n",
            "the multiplication of  3\n",
            "3 x 1 = 3\n",
            "3 x 2 = 6\n",
            "3 x 3 = 9\n",
            "3 x 4 = 12\n",
            "3 x 5 = 15\n",
            "3 x 6 = 18\n",
            "3 x 7 = 21\n",
            "3 x 8 = 24\n",
            "3 x 9 = 27\n",
            "3 x 10 = 30\n",
            "3 x 11 = 33\n",
            "3 x 12 = 36\n",
            "3 x 13 = 39\n",
            "3 x 14 = 42\n",
            "3 x 15 = 45\n",
            "3 x 16 = 48\n",
            "3 x 17 = 51\n",
            "3 x 18 = 54\n",
            "3 x 19 = 57\n",
            "3 x 20 = 60\n"
          ]
        }
      ]
    },
    {
      "cell_type": "code",
      "source": [
        "#3. Write a Python Program to Print the Fibonacci sequence?\n",
        "\n",
        "n = int(input(\"enter the terms: \"))\n",
        "a,b = 0, 1\n",
        "i = 0\n",
        "if n <= 0:\n",
        "    print(\"incorrect\")\n",
        "else:\n",
        "    print(\"Fibonacci sequence:\")\n",
        "    for i in range(0,n):\n",
        "        print(a)\n",
        "        c = a + b\n",
        "        a = b\n",
        "        b = c\n",
        "        i += 1"
      ],
      "metadata": {
        "colab": {
          "base_uri": "https://localhost:8080/"
        },
        "id": "QdHtcI1ZrBC3",
        "outputId": "032d8ec8-5369-4300-c217-daf66da10ae9"
      },
      "execution_count": null,
      "outputs": [
        {
          "output_type": "stream",
          "name": "stdout",
          "text": [
            "enter the terms: 4\n",
            "Fibonacci sequence:\n",
            "0\n",
            "1\n",
            "1\n",
            "2\n"
          ]
        }
      ]
    },
    {
      "cell_type": "code",
      "source": [
        "#4. Write a Python Program to Check Armstrong Number?\n",
        "\n",
        "\n",
        "n= int(input(\"Enter a number: \"))\n",
        "sum = 0\n",
        "i = n\n",
        "while i > 0:\n",
        "    digit = i % 10\n",
        "    sum += digit ** 3\n",
        "    i //= 10\n",
        "if n == sum:\n",
        "    print(n,\"is an Armstrong number\")\n",
        "else:\n",
        "    print(n,\"is not an Armstrong number\")"
      ],
      "metadata": {
        "colab": {
          "base_uri": "https://localhost:8080/"
        },
        "id": "cdwHOyMMrFXJ",
        "outputId": "853e6c03-b5af-4012-bf43-d5671ad3f11a"
      },
      "execution_count": null,
      "outputs": [
        {
          "output_type": "stream",
          "name": "stdout",
          "text": [
            "Enter a number: 236\n",
            "236 is not an Armstrong number\n"
          ]
        }
      ]
    },
    {
      "cell_type": "code",
      "source": [
        "#5. Write a Python Program to Find Armstrong Number in an Interval?\n",
        "\n",
        "a=int(input(\"enter the value of a is:  \"))\n",
        "b=int(input(\"enter the value of b is:  \"))\n",
        "for i in range(a,b+1):\n",
        "  sum = 0\n",
        "  c=i\n",
        "  while c>0:\n",
        "     digit = c % 10\n",
        "     sum += digit ** 3\n",
        "     c //= 10\n",
        "     if i==sum:\n",
        "       print(i)\n"
      ],
      "metadata": {
        "id": "T0-zZ1hQrJas",
        "colab": {
          "base_uri": "https://localhost:8080/"
        },
        "outputId": "6e519c01-ff89-40ef-8643-b1ec4a7a8cea"
      },
      "execution_count": 9,
      "outputs": [
        {
          "output_type": "stream",
          "name": "stdout",
          "text": [
            "enter the value of a is:  4\n",
            "enter the value of b is:  96\n",
            "64\n"
          ]
        }
      ]
    },
    {
      "cell_type": "code",
      "source": [
        "#6. Write a Python Program to Find the Sum of Natural Numbers?\n",
        "\n",
        "n = int(input(\"Enter a number: \"))  \n",
        "if n < 0:  \n",
        "   print(\"Enter a positive number\")  \n",
        "else:  \n",
        "   sum = 0  \n",
        "   while(n > 0):  \n",
        "       sum += n  \n",
        "       n -= 1  \n",
        "   print(\"The sum is\",sum)  "
      ],
      "metadata": {
        "colab": {
          "base_uri": "https://localhost:8080/"
        },
        "id": "MEIwK76Kt3aR",
        "outputId": "4620aee1-f4d4-4215-83c2-998603e34ba8"
      },
      "execution_count": 19,
      "outputs": [
        {
          "output_type": "stream",
          "name": "stdout",
          "text": [
            "Enter a number: 50\n",
            "The sum is 1275\n"
          ]
        }
      ]
    },
    {
      "cell_type": "code",
      "source": [
        ""
      ],
      "metadata": {
        "id": "8UX91dzNvbQW"
      },
      "execution_count": null,
      "outputs": []
    }
  ]
}