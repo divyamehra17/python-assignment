{
  "nbformat": 4,
  "nbformat_minor": 0,
  "metadata": {
    "colab": {
      "name": "programming_assign 6.ipynb",
      "provenance": [],
      "authorship_tag": "ABX9TyNnQa5vlqu6cc9cSq4wzW1s",
      "include_colab_link": true
    },
    "kernelspec": {
      "name": "python3",
      "display_name": "Python 3"
    },
    "language_info": {
      "name": "python"
    }
  },
  "cells": [
    {
      "cell_type": "markdown",
      "metadata": {
        "id": "view-in-github",
        "colab_type": "text"
      },
      "source": [
        "<a href=\"https://colab.research.google.com/github/divyamehra17/python-assignment/blob/main/programming_assign_6.ipynb\" target=\"_parent\"><img src=\"https://colab.research.google.com/assets/colab-badge.svg\" alt=\"Open In Colab\"/></a>"
      ]
    },
    {
      "cell_type": "code",
      "execution_count": 23,
      "metadata": {
        "colab": {
          "base_uri": "https://localhost:8080/"
        },
        "id": "XfYq1RgnQdgr",
        "outputId": "a5424207-bd3b-4fb9-b76f-7fa93855dabd"
      },
      "outputs": [
        {
          "output_type": "stream",
          "name": "stdout",
          "text": [
            "enter a  first value: 0\n",
            "enter a second value: 1\n",
            "enter a rec value: 0\n",
            "enter a cycles:  5\n",
            "1\n",
            "1\n",
            "2\n",
            "3\n",
            "5\n",
            "done\n"
          ]
        }
      ],
      "source": [
        "#1. Write a Python Program to Display Fibonacci Sequence Using Recursion?\n",
        "\n",
        "def fibonacci(firstnumber, secondnumber, num_rec, cycles):\n",
        "    num_rec = num_rec + 1\n",
        "    if firstnumber == 0 and secondnumber == 0:\n",
        "        result  = 0;\n",
        "        firstnumber = 1;\n",
        "    else:\n",
        "        result = firstnumber + secondnumber\n",
        "    print(result)\n",
        "    if num_rec == cycles:\n",
        "        print(\"done\")\n",
        "    else:\n",
        "        fibonacci(result,  firstnumber, num_rec, cycles)\n",
        "\n",
        "firstnumber =int(input(\"enter a  first value: \"))\n",
        "secondnumber = int(input(\"enter a second value: \"))\n",
        "num_rec = int(input(\"enter a rec value: \"))\n",
        "cycles=int(input(\"enter a cycles:  \"))\n",
        "\n",
        "fibonacci(firstnumber, secondnumber, num_rec, cycles)"
      ]
    },
    {
      "cell_type": "code",
      "source": [
        "#2. Write a Python Program to Find Factorial of Number Using Recursion?\n",
        "\n",
        "def recur_factorial(num): \n",
        "      if num == 1:  \n",
        "       return num \n",
        "      else:  \n",
        "       return num*recur_factorial(num-1) \n",
        "num = int(input(\"Enter a number: \"))    \n",
        "if num < 0:  \n",
        "   print(\"factorial does not exist \")  \n",
        "elif num == 0:  \n",
        "   print(\"factorial of 0 is 1\")  \n",
        "else:  \n",
        "   print(\"The factorial of\",num,\"is\",recur_factorial(num))  "
      ],
      "metadata": {
        "colab": {
          "base_uri": "https://localhost:8080/"
        },
        "id": "eF-telG1RwwO",
        "outputId": "eacd541a-849c-487f-a358-07589608480a"
      },
      "execution_count": 24,
      "outputs": [
        {
          "output_type": "stream",
          "name": "stdout",
          "text": [
            "Enter a number: 4\n",
            "The factorial of 4 is 24\n"
          ]
        }
      ]
    },
    {
      "cell_type": "code",
      "source": [
        "#3. Write a Python Program to calculate your Body Mass Index?\n",
        "\n",
        "\n",
        "print(\"Please enter the names of the  users who want to calculate thier BMI: \")\n",
        "individuals = []\n",
        "\n",
        "for i in range(0,1):        # when you want to find a bmi of 2 or more  user just change it to for i in range(0,2 or more)\n",
        "    user = input()\n",
        "    individuals.append(user)\n",
        "for user in individuals:\n",
        " height = int(input(\"Enter the height in cm:  \"))\n",
        " weight = int(input(\"Enter the weight in kg: \"))\n",
        "    \n",
        " BMI =  ((weight) / (height/100) ** 2)\n",
        " print(\"Your Body Mass Index is\", BMI)\n",
        "\n",
        " if  ( BMI < 16):\n",
        "  print(\"severely underweight\")\n",
        "\n",
        " elif ( BMI >= 16 and BMI < 18.5):\n",
        "   print(\"underweight\")\n",
        "\n",
        " elif ( BMI >= 18.5 and BMI < 25):\n",
        "   print(\"Healthy\")\n",
        "\n",
        " elif ( BMI >= 25 and BMI < 30):\n",
        "   print(\"overweight\")\n",
        "\n",
        " elif ( BMI >=30):\n",
        "   print(\"severely overweight\") "
      ],
      "metadata": {
        "colab": {
          "base_uri": "https://localhost:8080/"
        },
        "id": "PS-nl76QR15D",
        "outputId": "86c53a27-74c3-430c-b978-598072877bfe"
      },
      "execution_count": 25,
      "outputs": [
        {
          "output_type": "stream",
          "name": "stdout",
          "text": [
            "Please enter the names of the  users who want to calculate thier BMI: \n",
            "rajesh\n",
            "Enter the height in cm:  154\n",
            "Enter the weight in kg: 40\n",
            "Your Body Mass Index is 16.866250632484398\n",
            "underweight\n"
          ]
        }
      ]
    },
    {
      "cell_type": "code",
      "source": [
        "#4. Write a Python Program to calculate the natural logarithm of any number?\n",
        "\n",
        "import math\n",
        "natural_num=int(input(\"enter a natural number:  \"))\n",
        "print (\"Natural logarithm of\",natural_num , \"is :\", end=\"\")\n",
        "print (math.log(natural_num))\n",
        " \n",
        "base=int(input(\"enter a base number:  \"))\n",
        "print (\"Logarithm\",base, \"of\",natural_num,\"is : \", end=\"\")\n",
        "print (math.log(natural_num,base))\n"
      ],
      "metadata": {
        "colab": {
          "base_uri": "https://localhost:8080/"
        },
        "id": "mFgr48NQvFLr",
        "outputId": "df37622b-c33e-4884-b17d-b0a4675a00be"
      },
      "execution_count": 26,
      "outputs": [
        {
          "output_type": "stream",
          "name": "stdout",
          "text": [
            "enter a natural number:  14\n",
            "Natural logarithm of 14 is :2.6390573296152584\n",
            "enter a base number:  5\n",
            "Logarithm 5 of 14 is : 1.6397385131955606\n"
          ]
        }
      ]
    },
    {
      "cell_type": "code",
      "source": [
        "5#5. Write a Python Program for cube sum of first n natural numbers?\n",
        "\n",
        "def cube_sum(n):\n",
        "  if (n == 1):\n",
        "    return 1\n",
        "  else:\n",
        "    return n**3 + cube_sum(n-1)\n",
        "n=int(input(\"What number do you want to find the sum of cubes for?  \"))\n",
        "\n",
        "cube_sum(n)\n",
        "\n"
      ],
      "metadata": {
        "colab": {
          "base_uri": "https://localhost:8080/"
        },
        "id": "ihfroJfXMIxY",
        "outputId": "2da9373f-2c64-474e-8b11-378d2f0acc91"
      },
      "execution_count": 27,
      "outputs": [
        {
          "name": "stdout",
          "output_type": "stream",
          "text": [
            "What number do you want to find the sum of cubes for?  4\n"
          ]
        },
        {
          "output_type": "execute_result",
          "data": {
            "text/plain": [
              "100"
            ]
          },
          "metadata": {},
          "execution_count": 27
        }
      ]
    },
    {
      "cell_type": "code",
      "source": [
        ""
      ],
      "metadata": {
        "id": "c6TTV9s8QmzW"
      },
      "execution_count": null,
      "outputs": []
    }
  ]
}