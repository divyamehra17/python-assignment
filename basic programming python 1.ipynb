{
 "cells": [
  {
   "cell_type": "code",
   "execution_count": 1,
   "id": "bfd5b4d4",
   "metadata": {},
   "outputs": [
    {
     "name": "stdout",
     "output_type": "stream",
     "text": [
      "Hello Python\n"
     ]
    }
   ],
   "source": [
    "#  1. Write a Python program to print \"Hello Python\"?\n",
    "\n",
    "#learning about print()function-1.it is built-in functions.  2. to print the string 'Hello Python' on the terminal\n",
    "\n",
    "# syntax \n",
    "\n",
    "print(\"Hello Python\")"
   ]
  },
  {
   "cell_type": "code",
   "execution_count": 11,
   "id": "1e02c071",
   "metadata": {},
   "outputs": [
    {
     "name": "stdout",
     "output_type": "stream",
     "text": [
      "Enter a first value: 10\n",
      "Enter a second value: 15\n",
      "25\n",
      "0.6666666666666666\n"
     ]
    }
   ],
   "source": [
    "# 2. Write a Python program to do arithmetical operations addition and division.?\n",
    "\n",
    "a=int(input(\"Enter a first value: \"))\n",
    "b=int(input(\"Enter a second value: \"))\n",
    "\n",
    "#for addition\n",
    "c= a+b\n",
    "print(c)\n",
    "\n",
    "# for division     \n",
    "d=a/b\n",
    "print(d)\n",
    "\n",
    "##learning about input()function- to take input from the user.\n",
    "\n"
   ]
  },
  {
   "cell_type": "code",
   "execution_count": 20,
   "id": "02eeba32",
   "metadata": {},
   "outputs": [
    {
     "name": "stdout",
     "output_type": "stream",
     "text": [
      "Enter the first side value: 10\n",
      "Enter the second side value: 25\n",
      "Enter the third  side value: 36\n",
      "53.0\n",
      "The area of the triangle is 1557.19\n"
     ]
    }
   ],
   "source": [
    "# 3. Write a Python program to find the area of a triangle?\n",
    "\n",
    "e=int(input('Enter the first side value: '))\n",
    "f=int(input('Enter the second side value: '))\n",
    "g=int(input('Enter the third  side value: '))\n",
    "\n",
    "\n",
    "#calculate the semi perimeter-\n",
    "s=e+f+g/2\n",
    "print(s)\n",
    "\n",
    "#area of a triangle\n",
    "area= (s*(s-a)*(s-b)*(s-c))**0.5\n",
    "print('The area of the triangle is %0.2f' %area)\n",
    "\n",
    "#learning about -use %0.2f, then it will give 2 numbers after the decimal.use %0.5f, then it will give 5 numbers after the decimal.\n"
   ]
  },
  {
   "cell_type": "code",
   "execution_count": 22,
   "id": "e235690e",
   "metadata": {},
   "outputs": [
    {
     "name": "stdout",
     "output_type": "stream",
     "text": [
      "Enter the l value: 10\n",
      "Enter the m value: 15\n",
      "l value after swaping:  15\n",
      "m value after swaping:  10\n"
     ]
    }
   ],
   "source": [
    "# 4. Write a Python program to swap two variables?\n",
    "\n",
    "#learning about- By comma operator\n",
    "\n",
    "l=int(input('Enter the l value: '))\n",
    "m=int(input('Enter the m value: '))\n",
    "\n",
    "#swap of two variable\n",
    "l,m=m,l\n",
    "\n",
    "print('l value after swaping: ',l)\n",
    "print('m value after swaping: ',m)\n"
   ]
  },
  {
   "cell_type": "code",
   "execution_count": 24,
   "id": "2e0a995f",
   "metadata": {},
   "outputs": [
    {
     "name": "stdout",
     "output_type": "stream",
     "text": [
      "0.5581558088886828\n"
     ]
    }
   ],
   "source": [
    "#5. Write a Python program to generate a random number?\n",
    "\n",
    "#learning about-random() method which generates a float number between 0 and 1\n",
    "\n",
    "import random\n",
    "n=random.random()\n",
    "print(n)"
   ]
  },
  {
   "cell_type": "code",
   "execution_count": null,
   "id": "24bfda9e",
   "metadata": {},
   "outputs": [],
   "source": []
  }
 ],
 "metadata": {
  "kernelspec": {
   "display_name": "Python 3 (ipykernel)",
   "language": "python",
   "name": "python3"
  },
  "language_info": {
   "codemirror_mode": {
    "name": "ipython",
    "version": 3
   },
   "file_extension": ".py",
   "mimetype": "text/x-python",
   "name": "python",
   "nbconvert_exporter": "python",
   "pygments_lexer": "ipython3",
   "version": "3.9.7"
  }
 },
 "nbformat": 4,
 "nbformat_minor": 5
}
