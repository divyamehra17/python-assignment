{
  "nbformat": 4,
  "nbformat_minor": 0,
  "metadata": {
    "colab": {
      "name": "Programming Assignment_8.ipynb",
      "provenance": [],
      "authorship_tag": "ABX9TyPcWQBsWx/75pRRksvQiLKR",
      "include_colab_link": true
    },
    "kernelspec": {
      "name": "python3",
      "display_name": "Python 3"
    },
    "language_info": {
      "name": "python"
    }
  },
  "cells": [
    {
      "cell_type": "markdown",
      "metadata": {
        "id": "view-in-github",
        "colab_type": "text"
      },
      "source": [
        "<a href=\"https://colab.research.google.com/github/divyamehra17/python-assignment/blob/main/Programming_Assignment_8.ipynb\" target=\"_parent\"><img src=\"https://colab.research.google.com/assets/colab-badge.svg\" alt=\"Open In Colab\"/></a>"
      ]
    },
    {
      "cell_type": "code",
      "execution_count": 9,
      "metadata": {
        "colab": {
          "base_uri": "https://localhost:8080/"
        },
        "id": "txOTFQOv0BWm",
        "outputId": "1f3dbec4-e9c4-4f69-c0cc-e2b8c51d763f"
      },
      "outputs": [
        {
          "output_type": "stream",
          "name": "stdout",
          "text": [
            "How many row: 3\n",
            "How many column: 3\n",
            "Value of a is : 12\n",
            "Value of a is : 7\n",
            "Value of a is : 3\n",
            "Value of a is : 4\n",
            "Value of a is : 5\n",
            "Value of a is : 6\n",
            "Value of a is : 7\n",
            "Value of a is : 8\n",
            "Value of a is : 9\n",
            "the matrix of a is:  [[12  7  3]\n",
            " [ 4  5  6]\n",
            " [ 7  8  9]]\n",
            "How many row: 3\n",
            "How many column: 3\n",
            "Value of b is : 5\n",
            "Value of b is : 8\n",
            "Value of b is : 1\n",
            "Value of b is : 6\n",
            "Value of b is : 7\n",
            "Value of b is : 3\n",
            "Value of b is : 4\n",
            "Value of b is : 5\n",
            "Value of b is : 9\n",
            "the matrix of b is:  [[5 8 1]\n",
            " [6 7 3]\n",
            " [4 5 9]]\n"
          ]
        },
        {
          "output_type": "execute_result",
          "data": {
            "text/plain": [
              "array([[17, 15,  4],\n",
              "       [10, 12,  9],\n",
              "       [11, 13, 18]])"
            ]
          },
          "metadata": {},
          "execution_count": 9
        }
      ],
      "source": [
        "#1. Write a Python Program to Add Two Matrices?\n",
        "\n",
        "import numpy as np\n",
        "array = list()\n",
        "i = int(input(\"How many row: \"))\n",
        "j = int(input(\"How many column: \"))\n",
        "\n",
        "\n",
        "for x in range(i):\n",
        "    if i <= 0 or i>10:\n",
        "         print(\"Failure!\")\n",
        "         break\n",
        "    elif j <= 0 or j>10:\n",
        "         print(\"Failure!\")\n",
        "         break\n",
        "    else:\n",
        "        for y in range(j):\n",
        "             num = input(\"Value of a is : \")\n",
        "             array.append(int(num))\n",
        "\n",
        "\n",
        "a = np.reshape(array,(i,j))\n",
        "print (\"the matrix of a is: \",a)\n",
        "\n",
        "import numpy as np\n",
        "array = list()\n",
        "k = int(input(\"How many row: \"))\n",
        "l= int(input(\"How many column: \"))\n",
        "\n",
        "\n",
        "for x in range(k):\n",
        "    if k <= 0 or k>10:\n",
        "         print(\"Failure!\")\n",
        "         break\n",
        "    elif l<= 0 or l>10:\n",
        "         print(\"Failure!\")\n",
        "         break\n",
        "    else:\n",
        "        for y in range(l):\n",
        "             num1 = input(\"Value of b is : \")\n",
        "             array.append(int(num1))\n",
        "\n",
        "b= np.reshape(array,(k,l))\n",
        "print (\"the matrix of b is: \",b)\n",
        "\n",
        "def add(a, b):\n",
        "    return a + b\n",
        "\n",
        "add(a,b)\n",
        "\n"
      ]
    },
    {
      "cell_type": "code",
      "source": [
        "#2. Write a Python Program to Multiply Two Matrices?\n",
        "\n",
        "import numpy as np\n",
        "array = list()\n",
        "i = int(input(\"How many row: \"))\n",
        "j = int(input(\"How many column: \"))\n",
        "\n",
        "\n",
        "for x in range(i):\n",
        "    if i <= 0 or i>10:\n",
        "         print(\"Failure!\")\n",
        "         break\n",
        "    elif j <= 0 or j>10:\n",
        "         print(\"Failure!\")\n",
        "         break\n",
        "    else:\n",
        "        for y in range(j):\n",
        "             num = input(\"Value of a is : \")\n",
        "             array.append(int(num))\n",
        "\n",
        "\n",
        "a = np.reshape(array,(i,j))\n",
        "print (\"the matrix of a is: \",a)\n",
        "\n",
        "import numpy as np\n",
        "array = list()\n",
        "k = int(input(\"How many row: \"))\n",
        "l= int(input(\"How many column: \"))\n",
        "\n",
        "\n",
        "for x in range(k):\n",
        "    if k <= 0 or k>10:\n",
        "         print(\"Failure!\")\n",
        "         break\n",
        "    elif l<= 0 or l>10:\n",
        "         print(\"Failure!\")\n",
        "         break\n",
        "    else:\n",
        "        for y in range(l):\n",
        "             num1 = input(\"Value of b is : \")\n",
        "             array.append(int(num1))\n",
        "\n",
        "b= np.reshape(array,(k,l))\n",
        "print (\"the matrix of b is: \",b)\n",
        "\n",
        "def multiply(a, b):\n",
        "  return a * b\n",
        "\n",
        "multiply(a,b)"
      ],
      "metadata": {
        "colab": {
          "base_uri": "https://localhost:8080/"
        },
        "id": "wLmsUlLQ10it",
        "outputId": "19d3fc52-b080-4368-b1ed-5acb4357e2bc"
      },
      "execution_count": 10,
      "outputs": [
        {
          "output_type": "stream",
          "name": "stdout",
          "text": [
            "How many row: 3\n",
            "How many column: 3\n",
            "Value of a is : 12\n",
            "Value of a is : 7\n",
            "Value of a is : 3\n",
            "Value of a is : 4\n",
            "Value of a is : 5\n",
            "Value of a is : 6\n",
            "Value of a is : 7\n",
            "Value of a is : 8\n",
            "Value of a is : 9\n",
            "the matrix of a is:  [[12  7  3]\n",
            " [ 4  5  6]\n",
            " [ 7  8  9]]\n",
            "How many row: 3\n",
            "How many column: 3\n",
            "Value of b is : 5\n",
            "Value of b is : 8\n",
            "Value of b is : 1\n",
            "Value of b is : 6\n",
            "Value of b is : 7\n",
            "Value of b is : 3\n",
            "Value of b is : 4\n",
            "Value of b is : 5\n",
            "Value of b is : 9\n",
            "the matrix of b is:  [[5 8 1]\n",
            " [6 7 3]\n",
            " [4 5 9]]\n"
          ]
        },
        {
          "output_type": "execute_result",
          "data": {
            "text/plain": [
              "array([[60, 56,  3],\n",
              "       [24, 35, 18],\n",
              "       [28, 40, 81]])"
            ]
          },
          "metadata": {},
          "execution_count": 10
        }
      ]
    },
    {
      "cell_type": "code",
      "source": [
        "\n",
        "#3. Write a Python Program to Transpose a Matrix?\n",
        "\n",
        "import numpy as np\n",
        "array = list()\n",
        "i = int(input(\"How many row: \"))\n",
        "j = int(input(\"How many column: \"))\n",
        "\n",
        "\n",
        "for x in range(i):\n",
        "    if i <= 0 or i>10:\n",
        "         print(\"Failure!\")\n",
        "         break\n",
        "    elif j <= 0 or j>10:\n",
        "         print(\"Failure!\")\n",
        "         break\n",
        "    else:\n",
        "        for y in range(j):\n",
        "             num = input(\"Value of a is : \")\n",
        "             array.append(int(num))\n",
        "\n",
        "\n",
        "a = np.reshape(array,(i,j))\n",
        "print (\"the matrix of a is: \",a)\n",
        "\n",
        "result = [[a[k][l] for k in range(len(a))] for l in range(len(a[0]))]\n",
        "\n",
        "for r in result:\n",
        "   print(\"the Transpose a Matrix: \",r)\n",
        "\n"
      ],
      "metadata": {
        "colab": {
          "base_uri": "https://localhost:8080/"
        },
        "id": "RSBOITFS8TrJ",
        "outputId": "720525f3-b17b-46cb-c81c-169087c1021a"
      },
      "execution_count": 34,
      "outputs": [
        {
          "output_type": "stream",
          "name": "stdout",
          "text": [
            "How many row: 3\n",
            "How many column: 2\n",
            "Value of a is : 12\n",
            "Value of a is : 7\n",
            "Value of a is : 3\n",
            "Value of a is : 4\n",
            "Value of a is : 5\n",
            "Value of a is : 8\n",
            "the matrix of a is:  [[12  7]\n",
            " [ 3  4]\n",
            " [ 5  8]]\n",
            "the Transpose a Matrix:  [12, 3, 5]\n",
            "the Transpose a Matrix:  [7, 4, 8]\n"
          ]
        }
      ]
    },
    {
      "cell_type": "code",
      "source": [
        "#4. Write a Python Program to Sort Words in Alphabetic Order?\n",
        "sentence=input(\"enter a sentence:   \")\n",
        "split_sentence=sentence.split()\n",
        "sorted_sentence=sorted(split_sentence)\n",
        "print(sorted_sentence)\n"
      ],
      "metadata": {
        "colab": {
          "base_uri": "https://localhost:8080/"
        },
        "id": "2GWpcx3WBf1y",
        "outputId": "749401ae-2f3f-4ada-f02d-e3cedf26f78f"
      },
      "execution_count": 36,
      "outputs": [
        {
          "output_type": "stream",
          "name": "stdout",
          "text": [
            "enter a sentence:   this is my first program\n",
            "['first', 'is', 'my', 'program', 'this']\n"
          ]
        }
      ]
    },
    {
      "cell_type": "code",
      "source": [
        "#5. Write a Python Program to Remove Punctuation From a String?\n",
        "sentence=input(\"enter a sentence:   \")\n",
        "no_punct=\" \"\n",
        "punctuation = '''!()-[]{};:'\"\\,<>./?@#$%^&*_~'''\n",
        "for char in sentence:\n",
        "  if char not in punctuation:\n",
        "      no_punct=no_punct+char\n",
        "print(no_punct)"
      ],
      "metadata": {
        "colab": {
          "base_uri": "https://localhost:8080/"
        },
        "id": "aSnC6SqAWzwR",
        "outputId": "fb39ea82-4879-4c35-8c13-1e33d4931131"
      },
      "execution_count": 43,
      "outputs": [
        {
          "output_type": "stream",
          "name": "stdout",
          "text": [
            "enter a sentence:   \"Woman, without her man, is nothing\"\n",
            " Woman without her man is nothing\n"
          ]
        }
      ]
    },
    {
      "cell_type": "code",
      "source": [
        ""
      ],
      "metadata": {
        "id": "r7xTzgZaZu0j"
      },
      "execution_count": null,
      "outputs": []
    }
  ]
}